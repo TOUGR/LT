{
 "cells": [
  {
   "cell_type": "markdown",
   "metadata": {},
   "source": [
    "# Parámetros de las líneas\n",
    "\n",
    "(Véase figura 11.2 de Sadiku)."
   ]
  },
  {
   "cell_type": "markdown",
   "metadata": {},
   "source": [
    "## Cable coaxial\n",
    "\n",
    "$ R_d=\\frac{1}{2 \\pi \\sigma_c \\delta} \\left(\\frac{1}{a}+\\frac{1}{b} \\right) $\n",
    "\n",
    "$L_d=\\frac{\\mu}{2 \\pi} \\ln{\\frac{b}{a}} $\n",
    "\n",
    "$G_d=\\frac{2 \\pi \\sigma } {\\ln{\\frac{b}{a}}} $\n",
    "\n",
    "$C_d=\\frac{2 \\pi \\epsilon } {\\ln{\\frac{b}{a}}} $\n"
   ]
  },
  {
   "cell_type": "markdown",
   "metadata": {},
   "source": [
    "donde $a$ es el radio del conductor interno, b es el radio interno del conductor externo y $\\sigma_c$ es la conductividad de los conductores. $ \\delta = \\frac{1}{\\sqrt{\\pi f \\mu_c \\sigma_c}} $ es la profundidad de penetración, que es función de la frecuencia de trabajo $f$, la permeabilidad del conductor $\\mu_c$ y $\\sigma_c$ su conductividad, como se ha comentado anteriormente. \n",
    "$\\mu$, $\\epsilon$ y $\\sigma$ son permeabilidad, permitividad y conductividad del dieléctrico situado entre ambos hilos conductores."
   ]
  },
  {
   "cell_type": "markdown",
   "metadata": {},
   "source": [
    "## Cable paralelo\n",
    "\n",
    "$ R_d=\\frac{1}{ \\pi a \\sigma_c \\delta}  $\n",
    "\n",
    "$L_d=\\frac{\\mu}{\\pi} \\cosh^{-1}{\\frac{d}{2 a}} $\n",
    "\n",
    "$G_d=\\frac{\\pi \\sigma } {\\cosh^{-1}{\\frac{d}{2 a}}} $\n",
    "\n",
    "$C_d=\\frac{ \\pi \\epsilon } {\\cosh^{-1}{\\frac{d}{2 a}}} $\n"
   ]
  },
  {
   "cell_type": "markdown",
   "metadata": {},
   "source": [
    "Las características electromagnéticas son análogas a las del cable coaxial. Las dimensiones geométricas corresponden a: $d$ es la distancia entre centros de cada hilo; $a$ es el radio de cada hilo."
   ]
  },
  {
   "cell_type": "markdown",
   "metadata": {},
   "source": [
    "## Linea plana\n",
    "\n",
    "$ R_d=\\frac{2}{ w \\sigma_c \\delta}  $\n",
    "\n",
    "$L_d=\\frac{\\mu d}{w}  $\n",
    "\n",
    "$G_d=\\frac{w \\sigma } {d} $\n",
    "\n",
    "$C_d=\\frac{ w \\epsilon } {d} $\n"
   ]
  },
  {
   "cell_type": "markdown",
   "metadata": {},
   "source": [
    "Las magnitudes electromagnéticas se definen de forma análoga a los casos anteriores. Las dimensiones geométricas son: $w$ es el ancho del strip; $d$ es la distancia entre el conductor superior y el inferior. "
   ]
  },
  {
   "cell_type": "markdown",
   "metadata": {},
   "source": [
    "## Funciones para los cálculos\n",
    "\n",
    "En estas líneas definimos las funciones que nos servirán para hacer los cálculos:"
   ]
  },
  {
   "cell_type": "code",
   "execution_count": 1,
   "metadata": {},
   "outputs": [],
   "source": [
    "import numpy as np\n",
    "pi=np.pi\n",
    "mu0=4.*np.pi*1E-7\n",
    "c0=299792458E0\n",
    "ep0=1/(mu0*c0**2)\n",
    "\n",
    "def deltap(f,murc,sigmac):\n",
    "    d=1/np.sqrt(pi*f*murc*mu0*sigmac)\n",
    "    return d\n",
    "\n",
    "def pa_Co(a,b,f,murc,sigmac,mur,epr,sigma):\n",
    "    muc=murc*mu0\n",
    "    mu=mur*mu0\n",
    "    epsilon=epr*ep0\n",
    "    dp=deltap(f,murc,sigmac)\n",
    "    rd=1/(2.*pi*sigmac*dp)*(1/a+1/b)*1.e3  # En miliOhmios/m\n",
    "    ld=mu/(2.*pi)*np.log(b/a)*1.e6         # En microHenrios/m\n",
    "    gd=2.*pi*sigma/np.log(b/a)*1.e6        # En microSiemen/m\n",
    "    cd=2.*pi*epsilon/np.log(b/a)*1.e12     # En picoFaradios/m\n",
    "    return (rd,ld,gd,cd)\n",
    "\n",
    "def pa_TW(a,d,f,murc,sigmac,mur,epr,sigma):\n",
    "    muc=murc*mu0\n",
    "    mu=mur*mu0\n",
    "    epsilon=epr*ep0\n",
    "    dp=deltap(f,murc,sigmac)\n",
    "    rd=1/(pi*a*sigmac*dp)*1.e3\n",
    "    ld=mu/pi*np.arccosh(d/(2.*a))*1.e6\n",
    "    gd=sigma*pi/np.arccosh(d/(2.*a))*1.e6\n",
    "    cd=epsilon*pi/np.arccosh(d/(2.*a))*1.e12\n",
    "    return (rd,ld,gd,cd)"
   ]
  },
  {
   "cell_type": "markdown",
   "metadata": {},
   "source": [
    "## Ejercicio 1\n",
    "\n",
    "Determinar los parámetros de un cable coaxial con conductor interno de radio 1 mm y radio del conductor exterior de 4 mm. Suponed que el dieléctrico se comporta como el vacío y que el material conductor es cobre. Haced los cálculos para dos frecuencias: i) 60 Hz; ii) 1 MHz."
   ]
  },
  {
   "cell_type": "markdown",
   "metadata": {},
   "source": [
    "Para 60 Hz"
   ]
  },
  {
   "cell_type": "code",
   "execution_count": 2,
   "metadata": {
    "scrolled": true
   },
   "outputs": [
    {
     "name": "stdout",
     "output_type": "stream",
     "text": [
      "Rd(mOhmios/m)=  0.4056\n",
      "Ld(microH/m)=  0.2773\n",
      "Gd(microS/m)=  0.0000\n",
      "Cd(picoF/m)= 40.1304\n",
      "Delta (mm)=  8.6061\n"
     ]
    }
   ],
   "source": [
    "# Valores electromagneticos\n",
    "f=60\n",
    "murc=1.       # mu relativa del conductor\n",
    "sigmac=5.7e7   # conductividad del conductor\n",
    "mur=1         # mu relativa del aire\n",
    "epr=1         # epsilon relativa del aire\n",
    "sigma=0.      # conductividad del aire\n",
    "# Cable coaxial\n",
    "a=1.e-3\n",
    "b=4.e-3\n",
    "(rd,ld,gd,cd)=pa_Co(a,b,f,murc,sigmac,mur,epr,sigma)\n",
    "dp=deltap(f,mur,sigmac)*1e3  # En mm\n",
    "print('Rd(mOhmios/m)={0:8.4F}'.format(rd))\n",
    "print('Ld(microH/m)={0:8.4F}'.format(ld))\n",
    "print('Gd(microS/m)={0:8.4F}'.format(gd))\n",
    "print('Cd(picoF/m)={0:8.4F}'.format(cd))\n",
    "print('Delta (mm)={0:8.4F}'.format(dp))"
   ]
  },
  {
   "cell_type": "markdown",
   "metadata": {},
   "source": [
    "Y para 1 MHz:"
   ]
  },
  {
   "cell_type": "code",
   "execution_count": 3,
   "metadata": {},
   "outputs": [
    {
     "name": "stdout",
     "output_type": "stream",
     "text": [
      "Rd(mOhmios/m)= 52.3567\n",
      "Ld(microH/m)=  0.2773\n",
      "Gd(microS/m)=  0.0000\n",
      "Cd(picoF/m)= 40.1304\n",
      "Delta (mm)=  0.0667\n"
     ]
    }
   ],
   "source": [
    "# Valores electromagneticos\n",
    "f=1E6\n",
    "murc=1.       # mu relativa del conductor\n",
    "sigmac=5.7e7   # conductividad del conductor\n",
    "mur=1         # mu relativa del aire\n",
    "epr=1         # epsilon relativa del aire\n",
    "sigma=0.      # conductividad del aire\n",
    "# Cable coaxial\n",
    "a=1.e-3\n",
    "b=4.e-3\n",
    "(rd,ld,gd,cd)=pa_Co(a,b,f,murc,sigmac,mur,epr,sigma)\n",
    "dp=deltap(f,mur,sigmac)*1e3  # En mm\n",
    "print('Rd(mOhmios/m)={0:8.4F}'.format(rd))\n",
    "print('Ld(microH/m)={0:8.4F}'.format(ld))\n",
    "print('Gd(microS/m)={0:8.4F}'.format(gd))\n",
    "print('Cd(picoF/m)={0:8.4F}'.format(cd))\n",
    "print('Delta (mm)={0:8.4F}'.format(dp))"
   ]
  },
  {
   "cell_type": "markdown",
   "metadata": {},
   "source": [
    "## Ejercicio 2\n",
    "\n",
    "Comparar los parámetros de una línea de cables paralelos hecha de Cu ($\\sigma_c=5.7 \\cdot 10^7$ S/m) y de wolframio ($\\sigma_c=1.8 \\cdot 10^7$ S/m) trabajando a 1 MHz. El radio de cada hilo es de 1 mm y la distancia entre hilos es de 1 cm. Considerar que el dieléctrico del cable tiene una permitividad relativa de 9 y una pequeña conductividad de $10^{-9}$ S/m."
   ]
  },
  {
   "cell_type": "code",
   "execution_count": 11,
   "metadata": {},
   "outputs": [
    {
     "name": "stdout",
     "output_type": "stream",
     "text": [
      "Rd(mOhmios/m)= 83.7708\n",
      "Ld(microH/m)=  0.9170\n",
      "Gd(nanoS/m)=  1.3704\n",
      "Cd(picoF/m)=109.2056\n"
     ]
    }
   ],
   "source": [
    "# Valores electromagneticos Cu\n",
    "f=1E6\n",
    "murc=1.\n",
    "sigmac=5.7e7\n",
    "mur=1\n",
    "epr=9\n",
    "sigma=1E-9\n",
    "# Cable paralelo\n",
    "a=1.e-3\n",
    "d=0.01\n",
    "(rd,ld,gd,cd)=pa_TW(a,d,f,murc,sigmac,mur,epr,sigma)\n",
    "print('Rd(mOhmios/m)={0:8.4F}'.format(rd))\n",
    "print('Ld(microH/m)={0:8.4F}'.format(ld))\n",
    "print('Gd(nanoS/m)={0:8.4F}'.format(gd*1E3))\n",
    "print('Cd(picoF/m)={0:8.4F}'.format(cd))"
   ]
  },
  {
   "cell_type": "code",
   "execution_count": 13,
   "metadata": {},
   "outputs": [
    {
     "name": "stdout",
     "output_type": "stream",
     "text": [
      "Rd(mOhmios/m)=149.0712\n",
      "Ld(microH/m)=  0.9170\n",
      "Gd(nanoS/m)=  1.3704\n",
      "Cd(picoF/m)=109.2056\n"
     ]
    }
   ],
   "source": [
    "# Valores electromagneticos W (wolframio) \n",
    "f=1E6\n",
    "murc=1.\n",
    "sigmac=1.8e7\n",
    "mur=1\n",
    "epr=9\n",
    "sigma=1e-9\n",
    "# Cable paralelo\n",
    "a=1.e-3\n",
    "d=0.01\n",
    "(rd,ld,gd,cd)=pa_TW(a,d,f,murc,sigmac,mur,epr,sigma)\n",
    "print('Rd(mOhmios/m)={0:8.4F}'.format(rd))\n",
    "print('Ld(microH/m)={0:8.4F}'.format(ld))\n",
    "print('Gd(nanoS/m)={0:8.4F}'.format(gd*1E3))\n",
    "print('Cd(picoF/m)={0:8.4F}'.format(cd))"
   ]
  },
  {
   "cell_type": "markdown",
   "metadata": {},
   "source": [
    "## Ejercicio 3\n",
    "\n",
    "Determinar las variaciones en los parámetros de un cable coaxial de radios $a=10$ mm y $b=20$ mm cuando se varía la frecuencia de trabajo de 1 MHz a 1 GHz. Para 1 MHz $\\epsilon_r=9$, $\\sigma=0$, mientras que para 1 GHz $\\epsilon_r=23$, $\\sigma=10^{-3}$ S/m. Considerar que los conductores son perfectos en ambos casos.\n"
   ]
  },
  {
   "cell_type": "code",
   "execution_count": 14,
   "metadata": {},
   "outputs": [
    {
     "name": "stdout",
     "output_type": "stream",
     "text": [
      "Rd(mOhmios/m)=  0.0000\n",
      "Ld(microH/m)=  0.1386\n",
      "Gd(microS/m)=  0.0000\n",
      "Cd(picoF/m)=722.3466\n"
     ]
    }
   ],
   "source": [
    "# Valores electromagneticos\n",
    "f=1E6\n",
    "murc=1.\n",
    "sigmac=1E33\n",
    "mur=1\n",
    "epr=9\n",
    "sigma=0.\n",
    "# Cable coaxial\n",
    "a=10.e-3\n",
    "b=20.e-3\n",
    "(rd,ld,gd,cd)=pa_Co(a,b,f,murc,sigmac,mur,epr,sigma)\n",
    "print('Rd(mOhmios/m)={0:8.4F}'.format(rd))\n",
    "print('Ld(microH/m)={0:8.4F}'.format(ld))\n",
    "print('Gd(microS/m)={0:8.4F}'.format(gd))\n",
    "print('Cd(picoF/m)={0:8.4F}'.format(cd))"
   ]
  },
  {
   "cell_type": "code",
   "execution_count": 15,
   "metadata": {},
   "outputs": [
    {
     "name": "stdout",
     "output_type": "stream",
     "text": [
      "Rd(mOhmios/m)=  0.0000\n",
      "Ld(microH/m)=  0.1386\n",
      "Gd(microS/m)=9064.7203\n",
      "Cd(picoF/m)=1845.9969\n"
     ]
    }
   ],
   "source": [
    "# Valores electromagneticos\n",
    "f=1E9\n",
    "murc=1.\n",
    "sigmac=1e33\n",
    "mur=1\n",
    "epr=23\n",
    "sigma=1E-3\n",
    "# Cable coaxial\n",
    "a=10.e-3\n",
    "b=20.e-3\n",
    "(rd,ld,gd,cd)=pa_Co(a,b,f,murc,sigmac,mur,epr,sigma)\n",
    "print('Rd(mOhmios/m)={0:8.4F}'.format(rd))\n",
    "print('Ld(microH/m)={0:8.4F}'.format(ld))\n",
    "print('Gd(microS/m)={0:8.4F}'.format(gd))\n",
    "print('Cd(picoF/m)={0:8.4F}'.format(cd))"
   ]
  }
 ],
 "metadata": {
  "kernelspec": {
   "display_name": "Python 3 (ipykernel)",
   "language": "python",
   "name": "python3"
  },
  "language_info": {
   "codemirror_mode": {
    "name": "ipython",
    "version": 3
   },
   "file_extension": ".py",
   "mimetype": "text/x-python",
   "name": "python",
   "nbconvert_exporter": "python",
   "pygments_lexer": "ipython3",
   "version": "3.9.7"
  }
 },
 "nbformat": 4,
 "nbformat_minor": 2
}
