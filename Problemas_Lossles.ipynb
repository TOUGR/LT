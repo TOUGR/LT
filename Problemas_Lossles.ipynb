{
 "cells": [
  {
   "cell_type": "markdown",
   "metadata": {},
   "source": [
    "## Problema de impedancia de entrada. Línea en abierto.\n",
    "\n",
    "Una línea en abierto tiene una impedancia característica de $Z_0=50$ $\\Omega$ y una constante de fase $\\beta= 3$ rad/m. Determinar la impedancia de entrada para una línea de i) 5 m, ii) 10 m, iii) 2$\\lambda$."
   ]
  },
  {
   "cell_type": "markdown",
   "metadata": {},
   "source": [
    "Podemos usar el ejemplo 1.6 como referencia. \n",
    "Partimos de la expresión (1.48) que es la expresión general de la impedancia de onda para una línea sin pérdidas."
   ]
  },
  {
   "cell_type": "code",
   "execution_count": 10,
   "metadata": {
    "scrolled": true
   },
   "outputs": [
    {
     "name": "stdout",
     "output_type": "stream",
     "text": [
      "Once deleted, variables cannot be recovered. Proceed (y/[n])? y\n"
     ]
    }
   ],
   "source": [
    "%reset"
   ]
  },
  {
   "cell_type": "code",
   "execution_count": 11,
   "metadata": {},
   "outputs": [],
   "source": [
    "from lines import *"
   ]
  },
  {
   "cell_type": "markdown",
   "metadata": {},
   "source": [
    "Vamos a hacer uso de la función `Zwn` de `lines.py`."
   ]
  },
  {
   "cell_type": "code",
   "execution_count": 13,
   "metadata": {},
   "outputs": [
    {
     "name": "stdout",
     "output_type": "stream",
     "text": [
      "Longitud de onda (m)=2.094E+00\n"
     ]
    }
   ],
   "source": [
    "z0=50\n",
    "be=3\n",
    "la=2.*pi/be\n",
    "print('Longitud de onda (m)={0:9.3E}'.format(la))"
   ]
  },
  {
   "cell_type": "code",
   "execution_count": 17,
   "metadata": {
    "scrolled": false
   },
   "outputs": [
    {
     "name": "stdout",
     "output_type": "stream",
     "text": [
      "[1.18238453e-07+5.84116653e+01j 5.12186720e-08+7.80599761e+00j\n",
      " 5.00000000e+10+1.22464680e+04j]\n",
      "Imped. en  5.00=0.00+58.41j\n",
      "Imped. en 10.00=0.00+7.81j\n",
      "Imped. en  2.09=50000000000.00+12246.47j\n"
     ]
    }
   ],
   "source": [
    "zetasp=np.array([5./la,10./la,1])\n",
    "zws=Zwn(zetasp,1E9)*z0\n",
    "print(zws)\n",
    "for i in range(len(zetasp)):\n",
    "    print('Imped. en {0:5.2F}={1:5.2F}'.format(zetasp[i]*la,zws[i]))"
   ]
  },
  {
   "cell_type": "markdown",
   "metadata": {},
   "source": [
    "## Problema general de cálculo de voltaje en la línea\n",
    "\n",
    "Se tiene un sistema de generador, línea y carga con los siguientes datos: \n",
    "\n",
    "$V_g=10$ V; $Z_g=50$ $\\Omega$; $f=1$ MHz; $Z_0=75$ $\\Omega$; $v_f= 1.5\\cdot 10^8$ m/s; $l=100$ m; $Z_L=50+\\jmath 40$ $\\Omega$.\n",
    "\n",
    "Determinar el voltaje, intensidad e impedancia de onda en: i)el comienzo de la línea; ii) en la carga; iii) a 3 m de la carga.\n"
   ]
  },
  {
   "cell_type": "code",
   "execution_count": 20,
   "metadata": {},
   "outputs": [
    {
     "name": "stdout",
     "output_type": "stream",
     "text": [
      "Once deleted, variables cannot be recovered. Proceed (y/[n])? y\n"
     ]
    }
   ],
   "source": [
    "reset"
   ]
  },
  {
   "cell_type": "code",
   "execution_count": 21,
   "metadata": {},
   "outputs": [],
   "source": [
    "from lines import *"
   ]
  },
  {
   "cell_type": "code",
   "execution_count": 22,
   "metadata": {},
   "outputs": [],
   "source": [
    "z0=75\n",
    "vg=10\n",
    "zg=50\n",
    "zl=50+1.j*40\n",
    "ll=100\n",
    "f=1E6\n",
    "vf=1.5E8"
   ]
  },
  {
   "cell_type": "code",
   "execution_count": 23,
   "metadata": {},
   "outputs": [],
   "source": [
    "puntosz=np.array([0,ll,ll-3])"
   ]
  },
  {
   "cell_type": "markdown",
   "metadata": {},
   "source": [
    "Siguiendo el procedimiento de análisis del sistema, determinamos la impedancia de entrada y aplicando teoría de circuitos, el voltaje y la intensidad a la entrada. A partir de estos datos se determina el voltaje de la onda incidente y reflejada al comienzo de la línea:"
   ]
  },
  {
   "cell_type": "code",
   "execution_count": 24,
   "metadata": {},
   "outputs": [],
   "source": [
    "beta=2.*pi*f/vf\n",
    "londa=vf/f\n",
    "gammaL=Gr(zl/z0)\n",
    "zin=Zwn(ll/londa,zl/z0)*z0\n",
    "i0=vg/(zin+zg)\n",
    "v0=zin*i0\n",
    "v0p=0.5*(v0+z0*i0)\n",
    "v0m=0.5*(v0-z0*i0)"
   ]
  },
  {
   "cell_type": "markdown",
   "metadata": {},
   "source": [
    "Con estos valores podemos definir las funciones voltaje e intensidad en cada punto de la línea:"
   ]
  },
  {
   "cell_type": "code",
   "execution_count": 25,
   "metadata": {},
   "outputs": [],
   "source": [
    "def v(z):\n",
    "    return v0p*np.exp(-1.j*2.*np.pi*z/londa)+\\\n",
    "            v0m*np.exp(1.j*2.*np.pi*z/londa)\n",
    "def co(z):\n",
    "    return (v0p*np.exp(-1.j*2.*np.pi*z/londa)-\\\n",
    "            v0m*np.exp(1.j*2.*np.pi*z/londa))/z0"
   ]
  },
  {
   "cell_type": "code",
   "execution_count": 27,
   "metadata": {},
   "outputs": [
    {
     "name": "stdout",
     "output_type": "stream",
     "text": [
      "Impedancia de entrada (ohmios)=149.35-33.44j\n",
      "Voltaje a la entrada en modulo (V) y fase (grados)= 7.57,-3.10\n",
      "Intensidad a la entrada en modulo (A) y fase (grados)= 0.05, 9.52\n",
      "Voltaje a la entrada de la onda incidente en modulo (V) y fase (grados)= 5.61, 1.04\n",
      "Voltaje a la entrada de la onda reflejada en modulo (V) y fase (grados)= 2.02,-14.69\n"
     ]
    }
   ],
   "source": [
    "print('Impedancia de entrada (ohmios)={0:5.2F}'.format(zin))\n",
    "print('Voltaje a la entrada en modulo (V) y fase (grados)={0:5.2F},{1:5.2F}'.\n",
    "      format(*C2pD(v0)))\n",
    "print('Intensidad a la entrada en modulo (A) y fase (grados)={0:5.2F},{1:5.2F}'.\n",
    "      format(*C2pD(i0)))\n",
    "print('Voltaje a la entrada de la onda incidente en modulo (V) y fase (grados)\\\n",
    "={0:5.2F},{1:5.2F}'.format(*C2pD(v0p)))\n",
    "print('Voltaje a la entrada de la onda reflejada en modulo (V) y fase (grados)\\\n",
    "={0:5.2F},{1:5.2F}'.format(*C2pD(v0m)))"
   ]
  },
  {
   "cell_type": "markdown",
   "metadata": {},
   "source": [
    "Podemos representar el módulo y la fase del voltaje en cada punto de la línea:"
   ]
  },
  {
   "cell_type": "code",
   "execution_count": 28,
   "metadata": {},
   "outputs": [
    {
     "data": {
      "image/png": "[encoded data removed]",
      "text/plain": [
       "<Figure size 432x288 with 1 Axes>"
      ]
     },
     "metadata": {
      "needs_background": "light"
     },
     "output_type": "display_data"
    }
   ],
   "source": [
    "zs=np.linspace(0,ll,500)\n",
    "vs=v(zs)\n",
    "plt.grid()\n",
    "plt.plot(zs,abs(vs))\n",
    "plt.xlabel('z(m)')\n",
    "plt.ylabel('V(Vrms)')\n",
    "plt.show()"
   ]
  },
  {
   "cell_type": "code",
   "execution_count": 29,
   "metadata": {},
   "outputs": [
    {
     "data": {
      "image/png": "[encoded data removed]",
      "text/plain": [
       "<Figure size 432x288 with 1 Axes>"
      ]
     },
     "metadata": {
      "needs_background": "light"
     },
     "output_type": "display_data"
    }
   ],
   "source": [
    "zs=np.linspace(0,ll,500)\n",
    "vs=v(zs)\n",
    "plt.grid()\n",
    "plt.plot(zs,np.angle(vs)*R2d)\n",
    "plt.xlabel('z(m)')\n",
    "plt.ylabel('V(Vrms)')\n",
    "plt.show()"
   ]
  },
  {
   "cell_type": "code",
   "execution_count": null,
   "metadata": {},
   "outputs": [],
   "source": [
    "Los valores de voltaje en los puntos indicados:"
   ]
  },
  {
   "cell_type": "code",
   "execution_count": 30,
   "metadata": {},
   "outputs": [],
   "source": [
    "voltajesz=C2pD(v(puntosz))\n",
    "intensidadesz=C2pD(co(puntosz))\n",
    "impez=np.array(list(Zwn((ll-i)/londa,zl/z0) for i in puntosz))*z0"
   ]
  },
  {
   "cell_type": "code",
   "execution_count": 31,
   "metadata": {},
   "outputs": [
    {
     "name": "stdout",
     "output_type": "stream",
     "text": [
      "Voltaje (mod V,fase grados) en  0.00= 7.57,-3.10\n",
      "Voltaje (mod V,fase grados) en 100.00= 5.47,141.96\n",
      "Voltaje (mod V,fase grados) en 97.00= 5.97,148.00\n"
     ]
    }
   ],
   "source": [
    "for i in range(len(puntosz)):\n",
    "    print('Voltaje (mod V,fase grados) en {0:5.2F}={1:5.2F},{2:5.2F}'.\\\n",
    "          format(puntosz[i],voltajesz[0][i],voltajesz[1][i]))"
   ]
  },
  {
   "cell_type": "code",
   "execution_count": 32,
   "metadata": {},
   "outputs": [
    {
     "name": "stdout",
     "output_type": "stream",
     "text": [
      "Intensidad (mod A,fase grados) en  0.00= 0.05, 9.52\n",
      "Intensidad (mod A,fase grados) en 100.00= 0.09,103.30\n",
      "Intensidad (mod A,fase grados) en 97.00= 0.08,108.46\n"
     ]
    }
   ],
   "source": [
    "for i in range(len(puntosz)):\n",
    "    print('Intensidad (mod A,fase grados) en {0:5.2F}={1:5.2F},{2:5.2F}'.\\\n",
    "          format(puntosz[i],intensidadesz[0][i],intensidadesz[1][i]))"
   ]
  },
  {
   "cell_type": "code",
   "execution_count": 33,
   "metadata": {
    "scrolled": false
   },
   "outputs": [
    {
     "name": "stdout",
     "output_type": "stream",
     "text": [
      "Imp. onda (ohmios)=149.35-33.44j\n",
      "Imp. onda (ohmios)=50.00+40.00j\n",
      "Imp. onda (ohmios)=57.93+47.82j\n"
     ]
    }
   ],
   "source": [
    "for i in impez:\n",
    "    print('Imp. onda (ohmios)={0:5.2F}'.format(i))\n"
   ]
  },
  {
   "cell_type": "markdown",
   "metadata": {},
   "source": [
    "Como vemos la impedancia de onda al final de la línea coincide con la impedancia de carga."
   ]
  },
  {
   "cell_type": "markdown",
   "metadata": {},
   "source": [
    "## Problema de intensidad de corriente en un punto de la línea\n",
    "\n",
    "Determinar la intensidad de corriente a $\\lambda/8$ de la carga en una línea de 75 $\\Omega$ de impedancia característica y con una carga de $Z_L=45+ \\jmath 25$ $\\Omega$. No se saben datos del generador pero se conoce el voltaje en la carga: $V_L=10 e^{\\jmath 25^o}$ V.\n",
    "\n",
    "A 50 $\\Omega$ lossless line has $V_L=10 e^{\\jmath 25^o}$ V, $Z_L=50 e^{\\jmath 30^o}$. Find the current at $\\lambda/8$ from the load."
   ]
  },
  {
   "cell_type": "code",
   "execution_count": 32,
   "metadata": {},
   "outputs": [
    {
     "name": "stdout",
     "output_type": "stream",
     "text": [
      "Once deleted, variables cannot be recovered. Proceed (y/[n])? y\n"
     ]
    }
   ],
   "source": [
    "%reset"
   ]
  },
  {
   "cell_type": "code",
   "execution_count": 33,
   "metadata": {},
   "outputs": [],
   "source": [
    "from lines import *"
   ]
  },
  {
   "cell_type": "code",
   "execution_count": 35,
   "metadata": {},
   "outputs": [],
   "source": [
    "z0=75.      # Impedancia caracteristica\n",
    "vl=10.*np.exp(1.j*25.*D2r)     # Voltaje en la carga\n",
    "zl=45+25j     # Impedancia de carga\n",
    "zpn=1./8.                      # Punto en la linea"
   ]
  },
  {
   "cell_type": "code",
   "execution_count": 36,
   "metadata": {},
   "outputs": [
    {
     "data": {
      "text/plain": [
       "(111.878453038674+49.30939226519339j)"
      ]
     },
     "execution_count": 36,
     "metadata": {},
     "output_type": "execute_result"
    }
   ],
   "source": [
    "Zwn(zpn,zl/z0)*z0"
   ]
  },
  {
   "cell_type": "markdown",
   "metadata": {},
   "source": [
    "Voltaje e intensidad de corriente en una línea, en función de la distancia a la carga, vienen dados por las expresiones (1.46).\n",
    "\n",
    "Pensad en las incógnitas que hay en cada ecuación.\n"
   ]
  },
  {
   "cell_type": "code",
   "execution_count": 37,
   "metadata": {},
   "outputs": [
    {
     "data": {
      "text/plain": [
       "(0.3185867294156079, 128.4261399757142)"
      ]
     },
     "execution_count": 37,
     "metadata": {},
     "output_type": "execute_result"
    }
   ],
   "source": [
    "C2pD(Gr(zl/z0))"
   ]
  },
  {
   "cell_type": "code",
   "execution_count": 38,
   "metadata": {},
   "outputs": [],
   "source": [
    "il=vl/zl\n",
    "vlp=0.5*(vl+il*z0)     # Deducir estas expresiones\n",
    "vlm=0.5*(vl-il*z0)\n",
    "izp=1/z0*(vlp*np.exp(1.j*2.*pi*zpn)-vlm*np.exp(-1.j*2.*pi*zpn))"
   ]
  },
  {
   "cell_type": "code",
   "execution_count": 39,
   "metadata": {},
   "outputs": [
    {
     "name": "stdout",
     "output_type": "stream",
     "text": [
      "(11.905682803555111, 7.713684832943502)\n"
     ]
    }
   ],
   "source": [
    "print(C2pD(vlp))"
   ]
  },
  {
   "cell_type": "markdown",
   "metadata": {},
   "source": [
    "La solución, en módulo (en A) y fase (en grados) es:"
   ]
  },
  {
   "cell_type": "code",
   "execution_count": 40,
   "metadata": {
    "scrolled": true
   },
   "outputs": [
    {
     "name": "stdout",
     "output_type": "stream",
     "text": [
      "(0.12319982575064592, 37.93260839673951)\n"
     ]
    }
   ],
   "source": [
    "print(C2pD(izp))"
   ]
  },
  {
   "cell_type": "markdown",
   "metadata": {},
   "source": [
    "## Problema de impedancia de onda\n",
    "\n",
    "Encontrar el punto en el que la impedancia de onda en una línea de transmisión que opera a 1 MHz tiene un valor de reactancia pura de 75 $\\Omega$. Considerar que $Z_0=75$ $\\Omega$ y que el dieléctrico se comporta como el vacío. Calcularlo para i) la línea está cortocircuitada; ii) la línea está en abierto."
   ]
  },
  {
   "cell_type": "code",
   "execution_count": 1,
   "metadata": {},
   "outputs": [
    {
     "name": "stdout",
     "output_type": "stream",
     "text": [
      "Once deleted, variables cannot be recovered. Proceed (y/[n])? y\n"
     ]
    }
   ],
   "source": [
    "%reset"
   ]
  },
  {
   "cell_type": "code",
   "execution_count": 2,
   "metadata": {},
   "outputs": [],
   "source": [
    "from lines import *"
   ]
  },
  {
   "cell_type": "markdown",
   "metadata": {},
   "source": [
    "Los datos del problema son:"
   ]
  },
  {
   "cell_type": "code",
   "execution_count": 3,
   "metadata": {
    "scrolled": true
   },
   "outputs": [],
   "source": [
    "z0=75   # Impedancia intrinseca de la linea\n",
    "xw=75   # Impedancia requerida a la entrada de la linea\n",
    "f=1E6   # Frecuencia de trabajo\n",
    "vf=3E8     # Velocidad de fase ¿DE DONDE SALE ESTE DATO?"
   ]
  },
  {
   "cell_type": "markdown",
   "metadata": {},
   "source": [
    "Cálculos adicionales:"
   ]
  },
  {
   "cell_type": "code",
   "execution_count": 4,
   "metadata": {},
   "outputs": [],
   "source": [
    "w=2.*pi*f  \n",
    "be=w/vf\n",
    "la=2*pi/be"
   ]
  },
  {
   "cell_type": "code",
   "execution_count": 5,
   "metadata": {},
   "outputs": [
    {
     "name": "stdout",
     "output_type": "stream",
     "text": [
      "300.0\n"
     ]
    }
   ],
   "source": [
    "print(la)"
   ]
  },
  {
   "cell_type": "markdown",
   "metadata": {},
   "source": [
    "¿Cómo es la impedancia de onda en una linea en corto o en abierto?\n",
    "Para el caso de línea en corto tenemos el ejemplo 1.6.\n",
    "\n",
    "Partimos de la expresión (1.48) que es la expresión general de la impedancia de onda para una línea sin pérdidas.\n",
    "\n",
    "Obtengamos una figura con la impedancia de onda en cada punto de la línea. Para ello particularizamos la ecuación (1.48) para el caso de corto y abierto. Como se puede comprobar la impedancia se hace reactiva pura, por lo que representamos la parte imaginaria:"
   ]
  },
  {
   "cell_type": "code",
   "execution_count": 18,
   "metadata": {},
   "outputs": [],
   "source": [
    "def XwnSh(zpn):\n",
    "    xwn=np.tan(2*pi*zpn)\n",
    "    return xwn\n",
    "\n",
    "def XwnOp(zpn):\n",
    "    xwn=-1./np.tan(2*pi*zpn)\n",
    "    return xwn"
   ]
  },
  {
   "cell_type": "markdown",
   "metadata": {},
   "source": [
    "Comprobamos las definiciones con la función Zwn(zp,zln) definida en el paquete `lines`: "
   ]
  },
  {
   "cell_type": "code",
   "execution_count": 19,
   "metadata": {
    "scrolled": true
   },
   "outputs": [
    {
     "name": "stdout",
     "output_type": "stream",
     "text": [
      "-0.32491969623290645j -0.32491969623290645\n",
      "(1.3022301776072001e-06+0.5497546521920543j) 0.5497546521927702\n"
     ]
    }
   ],
   "source": [
    "print(Zwn(0.45,0),XwnSh(0.45))\n",
    "print(Zwn(0.33,10**6),XwnOp(0.33))"
   ]
  },
  {
   "cell_type": "code",
   "execution_count": 10,
   "metadata": {},
   "outputs": [],
   "source": [
    "import matplotlib.pyplot as plt\n",
    "%matplotlib inline"
   ]
  },
  {
   "cell_type": "code",
   "execution_count": 11,
   "metadata": {},
   "outputs": [
    {
     "name": "stderr",
     "output_type": "stream",
     "text": [
      "<ipython-input-8-aabbd8e0c43c>:6: RuntimeWarning: divide by zero encountered in true_divide\n",
      "  xwn=-1./np.tan(2*pi*zpn)\n"
     ]
    },
    {
     "data": {
      "image/png": "[encoded data removed]",
      "text/plain": [
       "<Figure size 432x288 with 1 Axes>"
      ]
     },
     "metadata": {
      "needs_background": "light"
     },
     "output_type": "display_data"
    }
   ],
   "source": [
    "zps=np.linspace(0,1,6000)\n",
    "xwns=np.ones(6000,dtype=float)*xw/z0\n",
    "xwnShs=XwnSh(zps)\n",
    "xwnOps=XwnOp(zps)\n",
    "plt.plot(zps,xwnShs,c='r',label='Short')\n",
    "plt.plot(zps,xwnOps,c='b',label='Open')\n",
    "plt.plot(zps,xwns,c='g')\n",
    "plt.ylim(-5,5)\n",
    "plt.grid()\n",
    "plt.xlabel(r\"$z'/\\lambda$\")\n",
    "plt.ylabel(r'$X_w/Z_0$')\n",
    "plt.legend(loc=2)\n",
    "plt.show()\n"
   ]
  },
  {
   "cell_type": "code",
   "execution_count": 12,
   "metadata": {},
   "outputs": [
    {
     "name": "stdout",
     "output_type": "stream",
     "text": [
      "37.5 112.5\n",
      "0.125 0.375\n"
     ]
    }
   ],
   "source": [
    "z1=(np.arctan(xw/z0))/be\n",
    "z2=(np.arctan(-z0/xw))/be+0.5*la\n",
    "print(z1,z2)\n",
    "print(z1/la,z2/la)"
   ]
  },
  {
   "cell_type": "code",
   "execution_count": 13,
   "metadata": {},
   "outputs": [
    {
     "data": {
      "text/plain": [
       "-0.7853981633974483"
      ]
     },
     "execution_count": 13,
     "metadata": {},
     "output_type": "execute_result"
    }
   ],
   "source": [
    "np.arctan(-z0/xw)"
   ]
  },
  {
   "cell_type": "markdown",
   "metadata": {},
   "source": [
    "¿Por qué hay que sumarle $\\lambda/2$ al caso del circuito abierto?"
   ]
  },
  {
   "cell_type": "markdown",
   "metadata": {},
   "source": [
    "## Problema de reactancia de carga indeterminada\n",
    "\n",
    "Determinar la capacitancia de un condensador en serie con una resistencia de 100 $\\Omega$ para que en la línea que lo alimenta se produzca una SWR de 9. La línea tiene una impedancia característica $Z_0=75$ $\\Omega$ y la velocidad de fase es $c$. La frecuencia de trabajo es de 10 MHz.   \n"
   ]
  },
  {
   "cell_type": "code",
   "execution_count": 2,
   "metadata": {},
   "outputs": [],
   "source": [
    "from lines import *"
   ]
  },
  {
   "cell_type": "code",
   "execution_count": 1,
   "metadata": {},
   "outputs": [],
   "source": [
    "z0=75\n",
    "vf=3E8\n",
    "f=10E6\n",
    "rl=100\n",
    "rln=rl/z0\n",
    "s=9"
   ]
  },
  {
   "cell_type": "code",
   "execution_count": 3,
   "metadata": {},
   "outputs": [
    {
     "name": "stdout",
     "output_type": "stream",
     "text": [
      "Capacitancia =6.932E-11 , \n",
      "Valor absoluto de Gamma= 8.000E-01\n"
     ]
    }
   ],
   "source": [
    "w=2.*pi*f\n",
    "gammo=(s-1)/(s+1)\n",
    "xln=-np.sqrt(((rln+1)**2*gammo**2-(rln-1)**2)/(1-gammo**2))\n",
    "xl=xln*z0\n",
    "cap=-1/(xl*w)\n",
    "print('Capacitancia ={0:9.3E} , \\nValor absoluto de Gamma= {1:9.3E}'\\\n",
    ".format(cap,gammo))"
   ]
  },
  {
   "cell_type": "code",
   "execution_count": 4,
   "metadata": {},
   "outputs": [
    {
     "name": "stdout",
     "output_type": "stream",
     "text": [
      "coeficiente de reflexion=  0.8 \n",
      "Fase en grados=-31.1\n"
     ]
    }
   ],
   "source": [
    "zlco=rl+1.j*xl\n",
    "gamco=Gr(zlco/z0)\n",
    "print('coeficiente de reflexion={0:5.3} \\n\\\n",
    "Fase en grados={1:5.3}'.\\\n",
    "      format(abs(gamco),np.angle(gamco)*R2d))"
   ]
  },
  {
   "cell_type": "markdown",
   "metadata": {},
   "source": [
    "Puede ser interesante resolverlo con la carta de Smith"
   ]
  },
  {
   "cell_type": "code",
   "execution_count": null,
   "metadata": {},
   "outputs": [],
   "source": []
  },
  {
   "cell_type": "markdown",
   "metadata": {},
   "source": [
    "## Problema de obtención de datos a partir de otros. \n",
    "\n",
    "Una línea tiene una longitud de $\\lambda/4$ y una impedancia característica de 50 $\\Omega$. La impedancia de carga es de 100 $\\Omega$ y el voltaje es de 50 V. ¿Cuál es el voltaje al principio de la línea?"
   ]
  },
  {
   "cell_type": "code",
   "execution_count": 1,
   "metadata": {},
   "outputs": [
    {
     "name": "stdout",
     "output_type": "stream",
     "text": [
      "Once deleted, variables cannot be recovered. Proceed (y/[n])? y\n"
     ]
    }
   ],
   "source": [
    "%reset"
   ]
  },
  {
   "cell_type": "code",
   "execution_count": 2,
   "metadata": {},
   "outputs": [],
   "source": [
    "from lines import *"
   ]
  },
  {
   "cell_type": "code",
   "execution_count": 3,
   "metadata": {},
   "outputs": [],
   "source": [
    "vl=50\n",
    "ln=0.25\n",
    "z0=50\n",
    "zl=100"
   ]
  },
  {
   "cell_type": "code",
   "execution_count": 4,
   "metadata": {},
   "outputs": [
    {
     "name": "stdout",
     "output_type": "stream",
     "text": [
      "Abs(V0)=2.500E+01 \n",
      "Fase(V0,grad)=9.000E+01\n"
     ]
    }
   ],
   "source": [
    "gam=Gr(zl/z0)\n",
    "vlp=vl/(1+gam)\n",
    "v0=vlp*(1-gam)*1.j\n",
    "print('Abs(V0)={0:9.3E} \\nFase(V0,grad)={1:9.3E}'.format(*C2pD(v0)))"
   ]
  },
  {
   "cell_type": "code",
   "execution_count": 5,
   "metadata": {
    "scrolled": true
   },
   "outputs": [
    {
     "name": "stdout",
     "output_type": "stream",
     "text": [
      "s=2.000E+00 \n",
      "v0co=2.500E+01\n"
     ]
    }
   ],
   "source": [
    "s=(1+abs(gam))/(1-abs(gam))\n",
    "v0co=vl/s\n",
    "print('s={0:9.3E} \\nv0co={1:9.3E}'.format(s,v0co))"
   ]
  },
  {
   "cell_type": "markdown",
   "metadata": {},
   "source": [
    "## Impedancia de entrada a partir de una impedancia de onda\n",
    "Una línea sin pérdidas opera a 200 MHz, tiene una longitud de 5 m, una impedancia característica $Z_0=50$ $\\Omega$ y la velocidad de fase $v_f=0.8c$. Se mide la impedancia de onda a mitad de línea y resulta $Z_w=80-\\jmath 60$ $\\Omega$. Determinar la impedancia de entrada $Z_{in}$ y el coeficiente de reflexión en la carga $\\Gamma_L$.\n"
   ]
  },
  {
   "cell_type": "code",
   "execution_count": 21,
   "metadata": {},
   "outputs": [
    {
     "name": "stdout",
     "output_type": "stream",
     "text": [
      "Once deleted, variables cannot be recovered. Proceed (y/[n])? y\n"
     ]
    }
   ],
   "source": [
    "%reset"
   ]
  },
  {
   "cell_type": "code",
   "execution_count": 2,
   "metadata": {},
   "outputs": [],
   "source": [
    "from lines import *"
   ]
  },
  {
   "cell_type": "code",
   "execution_count": 3,
   "metadata": {},
   "outputs": [],
   "source": [
    "z0=50\n",
    "ll=5\n",
    "f=200E6\n",
    "vf=0.8*3E8\n",
    "zwl2=80-1.j*60"
   ]
  },
  {
   "cell_type": "code",
   "execution_count": 4,
   "metadata": {},
   "outputs": [
    {
     "name": "stdout",
     "output_type": "stream",
     "text": [
      "(112.55406747203317+49.1747388199082j)\n"
     ]
    }
   ],
   "source": [
    "lam=vf/f\n",
    "x=np.tan(2*pi*ll/2./lam)\n",
    "zl=z0*(-zwl2/z0+1.j*x)/(zwl2/z0*1.j*x-1)\n",
    "#zl=(z0*zwl2-1.j*z0**2*np.tan(bzl2))/(z0-1.j*zwl2*np.tan(bzl2))\n",
    "print(zl)"
   ]
  },
  {
   "cell_type": "code",
   "execution_count": 6,
   "metadata": {
    "scrolled": true
   },
   "outputs": [
    {
     "name": "stdout",
     "output_type": "stream",
     "text": [
      "(28.681745894927534-34.042330244876524j) (80.00000000000001-60j)\n",
      "Gamma modulo y fase (deg) (0.4685212856658182, 21.34019174591)\n"
     ]
    }
   ],
   "source": [
    "zwl2co=Zwn(ll/2/lam,zl/z0)*z0\n",
    "zin=Zwn(ll/lam,zl/z0)*z0\n",
    "gam=Gr(zl/z0)\n",
    "print(zin,zwl2co)\n",
    "print('Gamma modulo y fase (deg)',C2pD(gam))"
   ]
  },
  {
   "cell_type": "code",
   "execution_count": 8,
   "metadata": {},
   "outputs": [
    {
     "name": "stdout",
     "output_type": "stream",
     "text": [
      "0.46852128566581824 -38.65980825409009 -0.6747409422235526\n",
      "(0.3658536585365854-0.29268292682926833j)\n"
     ]
    }
   ],
   "source": [
    "gal2=(zwl2-z0)/(zwl2+z0)\n",
    "print(abs(gal2),np.angle(gal2)*R2d,np.angle(gal2))\n",
    "print(gal2)"
   ]
  },
  {
   "cell_type": "code",
   "execution_count": 9,
   "metadata": {},
   "outputs": [
    {
     "name": "stdout",
     "output_type": "stream",
     "text": [
      "(0.4363976791564209+0.17049709894552698j) (0.4363976791564208+0.17049709894552703j)\n",
      "(0.4685212856658183, 21.34019174590999)\n"
     ]
    }
   ],
   "source": [
    "galco=gal2*np.exp(4*pi*ll/2/lam*1j)\n",
    "print(galco,gam)\n",
    "print(C2pD(galco))"
   ]
  },
  {
   "cell_type": "markdown",
   "metadata": {},
   "source": [
    "## Problema general de potencias\n",
    "\n",
    "Se tiene un sistema de generador, línea y carga. El generador viene definido por su voltaje, 10 V, y su impedancia interna, $Z_g=50$. La línea tiene una longitud especificada en longitudes de onda: $l=0.35\\lambda$. La impedancia característica de la línea es de 50 $\\Omega$. Por último la carga del sistema es de 100 $\\Omega$.\n",
    "Determinar la potencia entregada a la carga y compararla con la que suministra el generador. \n"
   ]
  },
  {
   "cell_type": "code",
   "execution_count": 1,
   "metadata": {},
   "outputs": [
    {
     "name": "stdout",
     "output_type": "stream",
     "text": [
      "Once deleted, variables cannot be recovered. Proceed (y/[n])? y\n"
     ]
    }
   ],
   "source": [
    "%reset"
   ]
  },
  {
   "cell_type": "code",
   "execution_count": 2,
   "metadata": {},
   "outputs": [],
   "source": [
    "from lines import *"
   ]
  },
  {
   "cell_type": "markdown",
   "metadata": {},
   "source": [
    "Introducimos los datos del problema. El esquema del problema es el de la figura 1.2.\n"
   ]
  },
  {
   "cell_type": "code",
   "execution_count": 3,
   "metadata": {},
   "outputs": [],
   "source": [
    "lln=0.35   # Longitud de la linea normalizada\n",
    "z0=50      # Impedancia intrinseca de la linea\n",
    "vg=10      # Voltaje del generador\n",
    "zg=50      # Impedancia intrinseca del generador\n",
    "zl=100      # Impedancia de carga"
   ]
  },
  {
   "cell_type": "markdown",
   "metadata": {},
   "source": [
    "Nos piden que calculemos la potencia suministrada a la línea.\n",
    "Planteamos primero algunas cuestiones que resolveremos a continuación:\n",
    "* ¿Qué potencia suministra el generador?\n",
    "* ¿La potencia que suministra el generador es igual que la potencia recibida por la línea?\n",
    "* ¿Es igual la potencia suministrada a la carga que la que entra en la línea?\n",
    "* Y por último, ¿qué relación existe entre la potencia que transporta la onda incidente y la que transporta la onda reflejada con las potencias calculadas anteriormente?"
   ]
  },
  {
   "cell_type": "markdown",
   "metadata": {},
   "source": [
    "Calculamos la potencia suministrada por el generador y la que entra en la línea según se indica en la sección 1.6.6. Para ello determinamos la impedancia a la entrada de la línea y con ella calculamos el voltaje y la intensidad a la entrada de la línea:"
   ]
  },
  {
   "cell_type": "code",
   "execution_count": 4,
   "metadata": {},
   "outputs": [],
   "source": [
    "zin=Zwn(lln,zl/z0)*z0    # Cuidado: Zwn es impedancia normalizada\n",
    "i0=vg/(zg+zin)\n",
    "v0=i0*zin"
   ]
  },
  {
   "cell_type": "code",
   "execution_count": 5,
   "metadata": {},
   "outputs": [
    {
     "name": "stdout",
     "output_type": "stream",
     "text": [
      "Zin=3.374E+01+2.407E+01j (Ohmios) \n",
      "I0=1.103E-01-3.170E-02j (A) \n",
      "V0=4.485E+00+1.585E+00j (V)\n",
      "|I0|=1.148E-01 (A) \n",
      "|V0|=4.757E+00 (V)\n",
      "Fase(I0)=-1.604E+01 (o) \n",
      "Fase(V0)=1.946E+01 (o)\n"
     ]
    }
   ],
   "source": [
    "print('Zin={0:9.3E} (Ohmios) \\nI0={1:9.3E} (A) \\nV0={2:9.3E} (V)'.format(zin,i0,v0))\n",
    "print('|I0|={0:9.3E} (A) \\n|V0|={1:9.3E} (V)'.format(abs(i0),abs(v0)))\n",
    "print('Fase(I0)={0:9.3E} (o) \\nFase(V0)={1:9.3E} (o)'.\\\n",
    "      format(np.angle(i0)*R2d,np.angle(v0)*R2d))"
   ]
  },
  {
   "cell_type": "markdown",
   "metadata": {},
   "source": [
    "Siguiendo los mismos pasos que en el ejemplo 1.9:"
   ]
  },
  {
   "cell_type": "code",
   "execution_count": 6,
   "metadata": {},
   "outputs": [],
   "source": [
    "pge=0.5*(vg*np.conjugate(i0)).real\n",
    "pin=0.5*(v0*np.conjugate(i0)).real"
   ]
  },
  {
   "cell_type": "code",
   "execution_count": 7,
   "metadata": {},
   "outputs": [
    {
     "name": "stdout",
     "output_type": "stream",
     "text": [
      "Pin=2.222E-01 (W) \n",
      "Pge=5.515E-01 (W)\n"
     ]
    }
   ],
   "source": [
    "print('Pin={0:9.3E} (W) \\nPge={1:9.3E} (W)'.format(pin,pge))"
   ]
  },
  {
   "cell_type": "markdown",
   "metadata": {},
   "source": [
    "¿En qué situación serían iguales estas dos potencias?"
   ]
  },
  {
   "cell_type": "markdown",
   "metadata": {},
   "source": [
    "Ahora determinamos la potencia que transporta la onda incidente y la onda reflejada. Para ello calculamos la amplitud de cada una:"
   ]
  },
  {
   "cell_type": "code",
   "execution_count": 8,
   "metadata": {},
   "outputs": [
    {
     "name": "stdout",
     "output_type": "stream",
     "text": [
      "V0p (||,º=) (4.999999999999999, 0.0)\n",
      "V0n (||,º=) (1.6666666666666659, 108.0)\n"
     ]
    }
   ],
   "source": [
    "v0p=0.5*(v0+i0*z0)\n",
    "v0n=0.5*(v0-i0*z0)\n",
    "print('V0p (||,º=)',C2pD(v0p))\n",
    "print('V0n (||,º=)',C2pD(v0n))"
   ]
  },
  {
   "cell_type": "markdown",
   "metadata": {},
   "source": [
    "Las potencias incidente y reflejada son:"
   ]
  },
  {
   "cell_type": "code",
   "execution_count": 12,
   "metadata": {},
   "outputs": [
    {
     "name": "stdout",
     "output_type": "stream",
     "text": [
      "P+=2.500E-01 (W) \n",
      "P-=2.778E-02 (W)\n",
      "Pin=2.222E-01 (W) \n",
      "P+-P-=2.222E-01 (W)\n"
     ]
    }
   ],
   "source": [
    "pinp=0.5*(abs(v0p))**2/z0\n",
    "pinn=0.5*(abs(v0n))**2/z0\n",
    "print('P+={0:9.3E} (W) \\nP-={1:9.3E} (W)'.format(pinp,pinn))\n",
    "print('Pin={0:9.3E} (W) \\nP+-P-={1:9.3E} (W)'.format(pin,pinp-pinn))"
   ]
  },
  {
   "cell_type": "markdown",
   "metadata": {},
   "source": [
    "Evaluar la potencia reflejada a partir del coeficiente de reflexión"
   ]
  },
  {
   "cell_type": "code",
   "execution_count": 15,
   "metadata": {},
   "outputs": [
    {
     "name": "stdout",
     "output_type": "stream",
     "text": [
      "Gamma modulo y fase (º) (0.3333333333333333, 0.0)\n",
      "Pinn=2.778E-02 (W) \n",
      "Pinn(a partir de Gamma)=2.778E-02 (W)\n"
     ]
    }
   ],
   "source": [
    "gam=Gr(zl/z0)\n",
    "pinn2=pinp*(abs(gam))**2\n",
    "print('Gamma modulo y fase (º)',C2pD(gam))\n",
    "print('Pinn={0:9.3E} (W) \\nPinn(a partir de Gamma)={1:9.3E} (W)'.format(pinn,pinn2))"
   ]
  },
  {
   "cell_type": "markdown",
   "metadata": {},
   "source": [
    "Hacemos el cálculo de la potencia en la carga con los valores de voltaje e intensidad al final de la línea:"
   ]
  },
  {
   "cell_type": "code",
   "execution_count": 16,
   "metadata": {
    "scrolled": true
   },
   "outputs": [],
   "source": [
    "vlp=v0p*np.exp(-1.j*2.*pi*lln)\n",
    "vln=vlp*gam\n",
    "vl=vlp+vln\n",
    "ilp=vlp/z0\n",
    "iln=-vln/z0\n",
    "il=ilp+iln"
   ]
  },
  {
   "cell_type": "code",
   "execution_count": 17,
   "metadata": {},
   "outputs": [
    {
     "name": "stdout",
     "output_type": "stream",
     "text": [
      "0.34559999999999996 0.3456\n",
      "0.36 0.36000000000000004\n",
      "0.014400000000000003 -0.014400000000000001\n"
     ]
    }
   ],
   "source": [
    "pl=0.5*(vl*np.conjugate(il)).real\n",
    "plp=0.5*(vlp*np.conjugate(ilp)).real\n",
    "pln=0.5*(vln*np.conjugate(iln)).real\n",
    "print(pin, pl)\n",
    "print(pinp,plp)\n",
    "print(pinn,pln)"
   ]
  },
  {
   "cell_type": "markdown",
   "metadata": {},
   "source": [
    "¿Qué representa este voltaje y por qué es igual que `v0p`?\n",
    "Recordar lo que ocurre en la sección 1.5.1, en el comienzo de la línea en $t=0^+$. Pero esto ocurre solo porque la línea está adaptada al generador."
   ]
  },
  {
   "cell_type": "code",
   "execution_count": 18,
   "metadata": {},
   "outputs": [
    {
     "name": "stdout",
     "output_type": "stream",
     "text": [
      "(6+0j) 6.0\n"
     ]
    }
   ],
   "source": [
    "v0pco=vg/(zg+z0)*z0\n",
    "print(v0p, v0pco)"
   ]
  },
  {
   "cell_type": "code",
   "execution_count": null,
   "metadata": {},
   "outputs": [],
   "source": []
  }
 ],
 "metadata": {
  "kernelspec": {
   "display_name": "Python 3",
   "language": "python",
   "name": "python3"
  },
  "language_info": {
   "codemirror_mode": {
    "name": "ipython",
    "version": 3
   },
   "file_extension": ".py",
   "mimetype": "text/x-python",
   "name": "python",
   "nbconvert_exporter": "python",
   "pygments_lexer": "ipython3",
   "version": "3.8.5"
  }
 },
 "nbformat": 4,
 "nbformat_minor": 2
}
