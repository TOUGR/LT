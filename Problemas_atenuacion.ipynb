{
 "cells": [
  {
   "cell_type": "markdown",
   "metadata": {},
   "source": [
    "# Problemas de atenuación en líneas\n",
    "\n",
    "Esta es una relación de problemas resueltos y propuestos para las secciones 1.5.3 y 1.5.4."
   ]
  },
  {
   "cell_type": "markdown",
   "metadata": {},
   "source": [
    "Las líneas se suelen caracterizar por la atenuación por unidad de longitud. Dada una línea de 100 m tiene una especificación de pérdidas de 16 dB/Km (a 5 MHz). Determinar: i)qué fracción de potencia alcanza el final de la línea; ii) ¿qué fracción de potencia alcanza la mitad de la línea; iii) determinar el coeficiente de atenuación $\\alpha$.\n",
    "\n",
    "\n",
    "Sol. (a) 0.692; (b) 0.832; (c) 1.84 Np/km"
   ]
  },
  {
   "cell_type": "code",
   "execution_count": 1,
   "metadata": {},
   "outputs": [
    {
     "name": "stdout",
     "output_type": "stream",
     "text": [
      "Once deleted, variables cannot be recovered. Proceed (y/[n])? y\n"
     ]
    }
   ],
   "source": [
    "reset "
   ]
  },
  {
   "cell_type": "code",
   "execution_count": 2,
   "metadata": {},
   "outputs": [],
   "source": [
    "import numpy as np"
   ]
  },
  {
   "cell_type": "code",
   "execution_count": 4,
   "metadata": {},
   "outputs": [],
   "source": [
    "l=100\n",
    "atdb=-1.6\n",
    "l1=l\n",
    "l2=l/2"
   ]
  },
  {
   "cell_type": "markdown",
   "metadata": {},
   "source": [
    "Tenemos las siguientes relaciones para la atenuación en dBs:\n",
    "\n",
    "$$ 10 \\cdot \\log_{10}\\frac{P(z)}{P(0)}=20 \\cdot \\log_{10}\\frac{V(z)}{V(0)} $$\n",
    "\n",
    "En nuestro caso:\n",
    "\n",
    "$$ 10 \\cdot \\log_{10}\\frac{P(z=100 m)}{P(0)}=-1.6 $$"
   ]
  },
  {
   "cell_type": "code",
   "execution_count": 5,
   "metadata": {},
   "outputs": [
    {
     "name": "stdout",
     "output_type": "stream",
     "text": [
      "0.6918309709189365\n"
     ]
    }
   ],
   "source": [
    "pfp0=10**(atdb/10)\n",
    "print(pfp0)"
   ]
  },
  {
   "cell_type": "markdown",
   "metadata": {},
   "source": [
    "Para el segundo apartado, dividimos la atenuacion en dBs por 2 ¿Por qué?"
   ]
  },
  {
   "cell_type": "code",
   "execution_count": 6,
   "metadata": {},
   "outputs": [
    {
     "name": "stdout",
     "output_type": "stream",
     "text": [
      "0.831763771102671\n"
     ]
    }
   ],
   "source": [
    "pl2p0=10**((atdb/2.)/10)\n",
    "print(pl2p0)"
   ]
  },
  {
   "cell_type": "markdown",
   "metadata": {},
   "source": [
    "Para el tercer apartado, partimos de la relación entre potencia en distintos puntos de la línea:\n",
    "\n",
    "$$ P(z)=P(0) e^{-2 \\alpha z} $$\n",
    "y usando la relación (1.27) tendremos:"
   ]
  },
  {
   "cell_type": "code",
   "execution_count": 7,
   "metadata": {},
   "outputs": [
    {
     "name": "stdout",
     "output_type": "stream",
     "text": [
      "0.0018420446695832373  en Np/m\n"
     ]
    }
   ],
   "source": [
    "Np2db=8.686\n",
    "alfa=-atdb/Np2db/l\n",
    "print(alfa, ' en Np/m')"
   ]
  },
  {
   "cell_type": "markdown",
   "metadata": {},
   "source": [
    "Con este coeficiente podemos obtener de nuevo la fracción de potencia al final y a mitad de la línea:"
   ]
  },
  {
   "cell_type": "code",
   "execution_count": 8,
   "metadata": {
    "scrolled": true
   },
   "outputs": [
    {
     "name": "stdout",
     "output_type": "stream",
     "text": [
      "0.6918342093612779 0.8317657178324181\n"
     ]
    }
   ],
   "source": [
    "pfp02=np.exp(-2*alfa*l)\n",
    "pl2p02=np.exp(-2*alfa*l2)\n",
    "print(pfp02,pl2p02)"
   ]
  },
  {
   "cell_type": "markdown",
   "metadata": {},
   "source": [
    "Se tiene un sistema formado por dos líneas de transmisión unidas en serie. Cada una tiene una longitud de 25 y 50 m respectivamente y sus pérdidas vienen definidas por 0.05 dB/m y 0.1 dB/m. En la unión también se tiene unas pérdidas de 3 dB. Determinar el porcentaje de potencia que alcanza el final del sistema. \n",
    "\n",
    "Sol. 11.9%\n",
    "\n",
    "Como señala Hayt en su ejemplo 10.4, la razón práctica de usar decibelios es que podemos sumar pérdidas de diferentes líneas y dispositivos que están conectados en serie; la pérdida total en dB será la suma de cada una de las pérdidas en dB de cada elemento individual."
   ]
  },
  {
   "cell_type": "code",
   "execution_count": 9,
   "metadata": {},
   "outputs": [
    {
     "name": "stdout",
     "output_type": "stream",
     "text": [
      "Once deleted, variables cannot be recovered. Proceed (y/[n])? y\n"
     ]
    }
   ],
   "source": [
    "reset"
   ]
  },
  {
   "cell_type": "code",
   "execution_count": 10,
   "metadata": {},
   "outputs": [],
   "source": [
    "import numpy as np"
   ]
  },
  {
   "cell_type": "code",
   "execution_count": 11,
   "metadata": {},
   "outputs": [],
   "source": [
    "l1=25       # m\n",
    "aldb1=0.05   # dB/m\n",
    "alnp1=aldb1/8.686\n",
    "l2=50\n",
    "aldb2=0.1\n",
    "alnp2=aldb2/8.686\n",
    "alju=3      # dB"
   ]
  },
  {
   "cell_type": "markdown",
   "metadata": {},
   "source": [
    "¿Por qué hacemos esta cuenta?"
   ]
  },
  {
   "cell_type": "code",
   "execution_count": 16,
   "metadata": {},
   "outputs": [
    {
     "name": "stdout",
     "output_type": "stream",
     "text": [
      "-9.25  en dB\n"
     ]
    }
   ],
   "source": [
    "ateto=-(l1*aldb1+l2*aldb2+alju)\n",
    "print(ateto, ' en dB')"
   ]
  },
  {
   "cell_type": "markdown",
   "metadata": {},
   "source": [
    "Como queremos saber el porcentaje de potencia que llega al final:\n",
    "\n",
    "$$ 10 \\cdot \\log_{10}\\frac{P_f}{P_0} $$"
   ]
  },
  {
   "cell_type": "code",
   "execution_count": 17,
   "metadata": {},
   "outputs": [
    {
     "data": {
      "text/plain": [
       "11.885022274370183"
      ]
     },
     "execution_count": 17,
     "metadata": {},
     "output_type": "execute_result"
    }
   ],
   "source": [
    "10**(ateto/10)*100"
   ]
  },
  {
   "cell_type": "markdown",
   "metadata": {},
   "source": [
    "Podemos hacer los cálculos usando el coeficiente de atenuación en Np/m, junto con las pérdidas de la unión:"
   ]
  },
  {
   "cell_type": "code",
   "execution_count": 19,
   "metadata": {},
   "outputs": [
    {
     "data": {
      "text/plain": [
       "11.885239594100723"
      ]
     },
     "execution_count": 19,
     "metadata": {},
     "output_type": "execute_result"
    }
   ],
   "source": [
    "np.exp(-2.*alnp1*l1)*np.exp(-2.*alnp2*l2)*10**(-alju/10)*100"
   ]
  },
  {
   "cell_type": "markdown",
   "metadata": {},
   "source": [
    "Véanse también los problemas 10.7 y 10.8 de Hayt. "
   ]
  },
  {
   "cell_type": "code",
   "execution_count": null,
   "metadata": {},
   "outputs": [],
   "source": []
  }
 ],
 "metadata": {
  "kernelspec": {
   "display_name": "Python 3",
   "language": "python",
   "name": "python3"
  },
  "language_info": {
   "codemirror_mode": {
    "name": "ipython",
    "version": 3
   },
   "file_extension": ".py",
   "mimetype": "text/x-python",
   "name": "python",
   "nbconvert_exporter": "python",
   "pygments_lexer": "ipython3",
   "version": "3.8.5"
  }
 },
 "nbformat": 4,
 "nbformat_minor": 2
}
