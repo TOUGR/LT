{
 "cells": [
  {
   "cell_type": "markdown",
   "metadata": {},
   "source": [
    "# Transitorios 2"
   ]
  },
  {
   "cell_type": "code",
   "execution_count": 1,
   "metadata": {},
   "outputs": [
    {
     "name": "stdout",
     "output_type": "stream",
     "text": [
      "Once deleted, variables cannot be recovered. Proceed (y/[n])? y\n"
     ]
    }
   ],
   "source": [
    "reset"
   ]
  },
  {
   "cell_type": "code",
   "execution_count": 2,
   "metadata": {},
   "outputs": [],
   "source": [
    "import numpy as np\n",
    "import matplotlib.pyplot as plt"
   ]
  },
  {
   "cell_type": "markdown",
   "metadata": {},
   "source": [
    "Siguiendo con el problema anterior y alcanzado el régimen estacionario, la carga de 100 $\\Omega$ se cortocircuita. Estudiar el transitorio que se genera y dibujar voltaje e intensidad en la mitad de la línea."
   ]
  },
  {
   "cell_type": "code",
   "execution_count": 3,
   "metadata": {},
   "outputs": [],
   "source": [
    "# Trabajamos en el SI. Datos del problema\n",
    "v0g=10.   # Voltaje del generador\n",
    "z0=75.    # Impedancia caracteristica\n",
    "zg=50.   # Impedancia del generador\n",
    "zl=0.    # Impedancia de carga\n",
    "c=299792458.0\n",
    "vo=0.25*c   # Velocidad de onda\n",
    "lol=100.    # Longitud de la linea"
   ]
  },
  {
   "cell_type": "code",
   "execution_count": 4,
   "metadata": {},
   "outputs": [
    {
     "name": "stdout",
     "output_type": "stream",
     "text": [
      "Voltaje (V) e intensidad (mA) antes de cortocircuitar:\n",
      " 6.666666666666667 66.66666666666667\n"
     ]
    }
   ],
   "source": [
    "gammaL=(zl-z0)/(zl+z0)  # Coef. reflex. carga\n",
    "gammaG=(zg-z0)/(zg+z0)  # Coef. reflex. generador\n",
    "dt=lol/vo           # Intervalo de tiempo (en ns)\n",
    "zlini=100           # Impedancia de carga inicial\n",
    "iin0=v0g/(zg+zlini)         # Intensidad segun TC\n",
    "vin0=zlini*iin0      # Voltaje segun TC\n",
    "ifi=v0g/zg\n",
    "vfi=0\n",
    "print('Voltaje (V) e intensidad (mA) antes de cortocircuitar:\\n',vin0,iin0*1E3)"
   ]
  },
  {
   "cell_type": "markdown",
   "metadata": {},
   "source": [
    "Voltaje e intensidad de la onda generada por el cortocircuito:"
   ]
  },
  {
   "cell_type": "code",
   "execution_count": 5,
   "metadata": {},
   "outputs": [
    {
     "name": "stdout",
     "output_type": "stream",
     "text": [
      "-6.666666666666667 0.08888888888888889\n"
     ]
    }
   ],
   "source": [
    "vin=-vin0\n",
    "iin=-vin/z0\n",
    "print(vin,iin)"
   ]
  },
  {
   "cell_type": "code",
   "execution_count": 6,
   "metadata": {},
   "outputs": [],
   "source": [
    "def transihN(t):\n",
    "### Variables globales: dt, vin, z0, gammaG, gammaL ###\n",
    "    ndt=int(np.floor(t/dt) )      # Numero de intervalos con reflexion en t\n",
    "    ins=np.ones(ndt+1,dtype=float)    # Intensidades reflejadas\n",
    "    inst=np.ones(ndt+1,dtype=float)   # Intensidades totales\n",
    "    vos=np.ones(ndt+1,dtype=float)    # Voltajes reflejados\n",
    "    vost=np.ones(ndt+1,dtype=float)   # Voltajes totales\n",
    "    vos[0]=vin\n",
    "    ins[0]=-vin/z0\n",
    "    vost[0]=vos[0]\n",
    "    inst[0]=ins[0]\n",
    "    for i in range(1,ndt+1):          # Si ndt==0 no hace nada\n",
    "        if i%2 != 0:                  \n",
    "            vr=vos[i-1]*gammaG\n",
    "            ir=vr/z0  \n",
    "        else:\n",
    "            vr=vos[i-1]*gammaL\n",
    "            ir=-vr/z0   \n",
    "        vos[i]=vr\n",
    "        vost[i]=vost[i-1]+vr\n",
    "        ins[i]=ir\n",
    "        inst[i]=inst[i-1]+ir\n",
    "    return (vos,ins,vost,inst)"
   ]
  },
  {
   "cell_type": "code",
   "execution_count": 7,
   "metadata": {},
   "outputs": [],
   "source": [
    "def transiztN(z,t):\n",
    "### Variables globales: dt, vin, z0, gammaG, gammaL, vo ###\n",
    "    vose , inse , voste,inste = transihN(t)\n",
    "    ndt=int(np.floor(t/dt))     # Numero de intervalos cumplidos\n",
    "    rdt=t-ndt*dt\n",
    "    if ndt == 0:\n",
    "        if lol-z<rdt*vo:  # La onda llega a z\n",
    "            return voste[0],inste[0]\n",
    "        else:\n",
    "            return 0,0\n",
    "    elif ndt%2 == 0:    # no par de reflexiones\n",
    "        if lol-z<rdt*vo:  # La onda reflejada llega a z\n",
    "            return voste[ndt],inste[ndt]\n",
    "        else:         \n",
    "            return voste[ndt-1],inste[ndt-1]\n",
    "    else:             # no impar de reflexiones\n",
    "        if z<rdt*vo:      \n",
    "            return voste[ndt],inste[ndt]\n",
    "        else:\n",
    "            return voste[ndt-1],inste[ndt-1]"
   ]
  },
  {
   "cell_type": "markdown",
   "metadata": {},
   "source": [
    "Voltajes e intensidades reflejados:"
   ]
  },
  {
   "cell_type": "code",
   "execution_count": 8,
   "metadata": {},
   "outputs": [
    {
     "name": "stdout",
     "output_type": "stream",
     "text": [
      "[-6.66666667  1.33333333 -1.33333333  0.26666667]\n",
      "[0.08888889 0.01777778 0.01777778 0.00355556]\n"
     ]
    }
   ],
   "source": [
    "vosp,insp,vostp,instp = transihN(5e-6)\n",
    "print(vosp)\n",
    "print(insp)"
   ]
  },
  {
   "cell_type": "markdown",
   "metadata": {},
   "source": [
    "Voltaje e intensidad en mitad de la línea en $t=5$ $\\mu$s:"
   ]
  },
  {
   "cell_type": "code",
   "execution_count": 9,
   "metadata": {},
   "outputs": [
    {
     "name": "stdout",
     "output_type": "stream",
     "text": [
      "0.2666666666666657\n",
      "0.19466666666666665\n"
     ]
    }
   ],
   "source": [
    "print(transiztN(lol/2,5E-6)[0]+vin0)\n",
    "print(transiztN(lol/2,5E-6)[1]+iin0)"
   ]
  },
  {
   "cell_type": "code",
   "execution_count": 10,
   "metadata": {},
   "outputs": [],
   "source": [
    "ndtrepre=6\n",
    "tiempos=np.linspace(0,ndtrepre,100)*dt\n",
    "voltajes=np.zeros(100)\n",
    "vfis=np.ones(100)*vfi\n",
    "ifis=np.ones(100)*ifi\n",
    "intensidades=np.zeros(100)\n",
    "for i, tiempo in enumerate(tiempos):\n",
    "    voltajes[i] , intensidades[i] = transiztN(lol/2,tiempo)"
   ]
  },
  {
   "cell_type": "code",
   "execution_count": 11,
   "metadata": {},
   "outputs": [
    {
     "data": {
      "image/png": "[encoded data removed]",
      "text/plain": [
       "<Figure size 432x288 with 1 Axes>"
      ]
     },
     "metadata": {
      "needs_background": "light"
     },
     "output_type": "display_data"
    }
   ],
   "source": [
    "plt.plot(tiempos*1e6,voltajes+vin0,c='b',label='V(t)')\n",
    "plt.plot(tiempos*1e6,vfis,c='r',label='V final')\n",
    "plt.grid()\n",
    "plt.xlabel('Tiempo (micro s)')\n",
    "plt.ylabel('Voltaje en l/2 (V)')\n",
    "plt.legend(loc=4)\n",
    "plt.show()"
   ]
  },
  {
   "cell_type": "code",
   "execution_count": 12,
   "metadata": {},
   "outputs": [
    {
     "data": {
      "image/png": "[encoded data removed]",
      "text/plain": [
       "<Figure size 432x288 with 1 Axes>"
      ]
     },
     "metadata": {
      "needs_background": "light"
     },
     "output_type": "display_data"
    }
   ],
   "source": [
    "plt.plot(tiempos*1e6,intensidades+iin0,c='b',label='I(t)')\n",
    "plt.plot(tiempos*1e6,ifis,c='r',label='V final')\n",
    "plt.grid()\n",
    "plt.xlabel('Tiempo (micro s)')\n",
    "plt.ylabel('Intensidad en l/2 (V)')\n",
    "plt.legend(loc=4)\n",
    "plt.show()"
   ]
  },
  {
   "cell_type": "code",
   "execution_count": null,
   "metadata": {},
   "outputs": [],
   "source": []
  }
 ],
 "metadata": {
  "kernelspec": {
   "display_name": "Python 3",
   "language": "python",
   "name": "python3"
  },
  "language_info": {
   "codemirror_mode": {
    "name": "ipython",
    "version": 3
   },
   "file_extension": ".py",
   "mimetype": "text/x-python",
   "name": "python",
   "nbconvert_exporter": "python",
   "pygments_lexer": "ipython3",
   "version": "3.8.5"
  }
 },
 "nbformat": 4,
 "nbformat_minor": 2
}
