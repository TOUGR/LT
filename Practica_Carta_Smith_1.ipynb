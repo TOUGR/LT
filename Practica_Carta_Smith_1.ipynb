{
 "cells": [
  {
   "cell_type": "markdown",
   "metadata": {},
   "source": [
    "# Carta de Smith: significado, construcción y uso\n",
    "\n",
    "### Parte 1. Paquete `lines.py` y representación del coeficiente de reflexión\n",
    "\n",
    "Rev. 27/09/2022. Autor: A. Salinas."
   ]
  },
  {
   "cell_type": "markdown",
   "metadata": {},
   "source": [
    "Los cálculos en los problemas de líneas de transmisión suelen ser muy complejos. La carta de Smith es una herramienta para hacer estos cálculos de forma gráfica (Phillip H. Smith, \"Transmission Line Calculator\", *Electronics*, vol. 12, pp. 29-31, 1939)."
   ]
  },
  {
   "cell_type": "markdown",
   "metadata": {},
   "source": [
    "La carta de Smith surge de la representación en el plano complejo del coeficiente de reflexión en la carga $\\Gamma_L$. Puesto que $\\Gamma_L$ es complejo y su módulo es siempre menor o igual que la unidad, la carta de Smith se sitúa en el interior del círculo unidad en el plano complejo, el eje de abcisas es el eje real y el eje de ordenadas el imaginario.\n",
    "\n",
    "El coeficiente de reflexión en la carga es función de la impedancia de carga normalizada a la impedancia intrínseca de la línea, que descomponemos en su parte real $r$ e imaginaria $x$: $z_L=Z_L/Z_0=r+\\jmath x$:\n",
    "$$\\Gamma_L=\\frac{Z_L-Z_0}{Z_L+Z_0}=\\frac{(Z_L/Z_0)-1}{(Z_L/Z_0)+1}=\\frac{r+\\jmath x-1}{r+\\jmath x+1}$$\n",
    "\n",
    "En lo que sigue vamos a tratar de comprender qué significa cada uno de los círculos que aparecen en la carta. Para ello usaremos las funciones del paquete `lines`."
   ]
  },
  {
   "cell_type": "code",
   "execution_count": null,
   "metadata": {},
   "outputs": [],
   "source": [
    "reset"
   ]
  },
  {
   "cell_type": "code",
   "execution_count": 3,
   "metadata": {},
   "outputs": [],
   "source": [
    "from lines import *  # Cargamos el paquete"
   ]
  },
  {
   "cell_type": "markdown",
   "metadata": {},
   "source": [
    "Dentro de `lines` se cargan los paquetes `numpy` y `matplotlib.pyplot` con los alias `np` y `plt`.\n",
    "\n",
    "Nota: desde Jupyter se puede visualizar el paquete `lines.py` sin más que abrirlo desde la ventana general. Basta con clicar en el fichero en la listya de ficheros del directorio."
   ]
  },
  {
   "cell_type": "markdown",
   "metadata": {},
   "source": [
    "## El paquete `lines.py"
   ]
  },
  {
   "cell_type": "markdown",
   "metadata": {},
   "source": [
    "### Constantes definidas"
   ]
  },
  {
   "cell_type": "markdown",
   "metadata": {},
   "source": [
    "**Nota**: Estas definiciones están en el paquete `lines`. Al importarlo ya se han ejecutado. Se muestran por comodidad. "
   ]
  },
  {
   "cell_type": "code",
   "execution_count": 7,
   "metadata": {},
   "outputs": [],
   "source": [
    "# Dentro del paquete lines\n",
    "pi=np.pi  \n",
    "D2r=pi/180.\n",
    "R2d=180./pi"
   ]
  },
  {
   "cell_type": "markdown",
   "metadata": {},
   "source": [
    "* `pi` define el número $\\pi$ desde el paquete de `numpy`\n",
    "* `D2r` y `R2d` factores de conversión de grados a radianes y viceversa"
   ]
  },
  {
   "cell_type": "markdown",
   "metadata": {},
   "source": [
    "Usaremos la función `print` de Python para generar las salidas de valores de variables. En su versión más simple, usa como argumentos las variables que se quieren mostrar, separadas por comas."
   ]
  },
  {
   "cell_type": "code",
   "execution_count": 4,
   "metadata": {},
   "outputs": [
    {
     "name": "stdout",
     "output_type": "stream",
     "text": [
      "3.141592653589793 180.0 3.141592653589793\n"
     ]
    }
   ],
   "source": [
    "print(pi, pi*R2d, 180*D2r)"
   ]
  },
  {
   "cell_type": "markdown",
   "metadata": {},
   "source": [
    "### Manejo de complejos"
   ]
  },
  {
   "cell_type": "code",
   "execution_count": null,
   "metadata": {},
   "outputs": [],
   "source": [
    "# Dentro del paquete lines\n",
    "\n",
    "# Funciones con complejos\n",
    "def C2p(x):   \n",
    "    \"\"\"\n",
    "    Complejo a tupla de polares.\n",
    "    \"\"\"\n",
    "    return (np.abs(x),np.angle(x))\n",
    "\n",
    "def C2pD(x):\n",
    "    \"\"\"\n",
    "    Complejo a tupla de polares con fase en grados.\n",
    "    \"\"\"\n",
    "    return (np.abs(x),np.angle(x)*R2d)\n",
    "\n",
    "def P2c(r,th):\n",
    "    \"\"\"\n",
    "    Modulo y fase a tupla de cartesianas.\n",
    "    \"\"\"\n",
    "    return (r*np.cos(th),r*np.sin(th))\n",
    "\n",
    "def P2cD(r,th): # Modulo y fase en grados a tupla de cartesianas\n",
    "    \"\"\"\n",
    "    Modulo y fase en grados a tupla de cartesianas.\n",
    "    \"\"\"\n",
    "    thr=th*D2r\n",
    "    return P2c(r,thr)"
   ]
  },
  {
   "cell_type": "code",
   "execution_count": 15,
   "metadata": {},
   "outputs": [
    {
     "data": {
      "text/plain": [
       "(1.4142135623730951, 0.7853981633974483)"
      ]
     },
     "execution_count": 15,
     "metadata": {},
     "output_type": "execute_result"
    }
   ],
   "source": [
    "C2p(1.+1.j)"
   ]
  },
  {
   "cell_type": "code",
   "execution_count": 16,
   "metadata": {},
   "outputs": [
    {
     "data": {
      "text/plain": [
       "(1.4142135623730951, 45.0)"
      ]
     },
     "execution_count": 16,
     "metadata": {},
     "output_type": "execute_result"
    }
   ],
   "source": [
    "C2pD(1.+1.j)"
   ]
  },
  {
   "cell_type": "code",
   "execution_count": 17,
   "metadata": {},
   "outputs": [
    {
     "data": {
      "text/plain": [
       "(1.0000000000000002, 1.0)"
      ]
     },
     "execution_count": 17,
     "metadata": {},
     "output_type": "execute_result"
    }
   ],
   "source": [
    "P2c(1.4142135623730951, 0.7853981633974483)"
   ]
  },
  {
   "cell_type": "code",
   "execution_count": 18,
   "metadata": {},
   "outputs": [
    {
     "data": {
      "text/plain": [
       "(1.0000000000000002, 1.0)"
      ]
     },
     "execution_count": 18,
     "metadata": {},
     "output_type": "execute_result"
    }
   ],
   "source": [
    "P2cD(1.4142135623730951, 45.0)"
   ]
  },
  {
   "cell_type": "markdown",
   "metadata": {},
   "source": [
    "Observar que la salida de estas funciones es una tupla, es decir, un par de números. "
   ]
  },
  {
   "cell_type": "markdown",
   "metadata": {},
   "source": [
    "### Funciones de dibujo"
   ]
  },
  {
   "cell_type": "code",
   "execution_count": null,
   "metadata": {},
   "outputs": [],
   "source": [
    "# Dentro del paquete lines\n",
    "\n",
    "## Funciones generales de dibujo\n",
    "def Point(x,y,c='k',marker='o',s=1): # Dibuja un punto en las coordenadas cartesianas x, y\n",
    "    \"\"\"\n",
    "    Dibuja un punto con coordenadas x,y.\n",
    "    (x,y,c='k',marker='o',s=1)\n",
    "    \"\"\"\n",
    "    plt.scatter(x,y,c=c,marker=marker,s=20*2**s)\n",
    "\n",
    "def Arc(r,thi,thf,c='k',ls='-',lw=1): #Dibuja un arco de radio r desde thi rad hasta thf rad\n",
    "    \"\"\"\n",
    "    Dibuja un archo de radio r desde thi rad hasta thf rad\n",
    "    (r,thi,thf,c='k',ls='-',lw=1)\n",
    "    \"\"\"\n",
    "    thes=np.linspace(thi,thf,100) # Lista de angulos \n",
    "    xsar=r*np.cos(thes)  # Proyeccion al eje x\n",
    "    ysar=r*np.sin(thes)  # Proyeccion al eje y\n",
    "    # Punto inicial de la flecha: desde el valor -3, dx, dy\n",
    "    flecha=(xsar[-3],ysar[-3],xsar[-1]-xsar[-3],ysar[-1]-ysar[-3])\n",
    "    plt.plot(xsar,ysar,c=c,ls=ls,lw=lw)\n",
    "    # Se dibuja la flecha con los valores normales\n",
    "    plt.arrow(*flecha,head_width=0.05, head_length=0.1,fc=c,ec=c,\\\n",
    "            length_includes_head=True)    \n",
    "\n",
    "def Circle(r,c='k',ls='-',lw=1):\n",
    "    \"\"\"\n",
    "    Dibuja un circulo de radio r\n",
    "    (r,c='k',ls='-',lw=1)\n",
    "    \"\"\"\n",
    "    thes=np.linspace(0,2.*np.pi,300)\n",
    "    xsar=r*np.cos(thes)\n",
    "    ysar=r*np.sin(thes)\n",
    "    plt.plot(xsar,ysar,c=c,ls=ls,lw=lw)\n",
    "\n",
    "def Line(px1,py1,px2,py2,c='k',ls='-',lw=1):\n",
    "    \"\"\"\n",
    "    Dibuja una linea desde (px1,py1) hasta (px2,py2)\n",
    "    (px1,py1,px2,py2,c='k',ls='-',lw=1)\n",
    "    \"\"\"\n",
    "    plt.plot([px1,px2],[py1,py2],c=c,ls=ls,lw=lw)"
   ]
  },
  {
   "cell_type": "code",
   "execution_count": 26,
   "metadata": {},
   "outputs": [
    {
     "data": {
      "image/png": "[encoded data removed]",
      "text/plain": [
       "<Figure size 432x288 with 1 Axes>"
      ]
     },
     "metadata": {
      "needs_background": "light"
     },
     "output_type": "display_data"
    }
   ],
   "source": [
    "Line(0,0,1,1,c='r',ls='-',lw=1.5)\n",
    "Circle(0.5)\n",
    "Arc(0.2,0,pi/2)\n",
    "Point(0.5,0.5)"
   ]
  },
  {
   "cell_type": "markdown",
   "metadata": {},
   "source": [
    "# Coeficiente de reflexión"
   ]
  },
  {
   "cell_type": "markdown",
   "metadata": {},
   "source": [
    "Podemos calcular el coeficiente de reflexión con la función `Gr`, definida dentro del paquete `lines`:"
   ]
  },
  {
   "cell_type": "code",
   "execution_count": null,
   "metadata": {},
   "outputs": [],
   "source": [
    "# Dentro del paquete lines\n",
    "\n",
    "# Funciones de las lineas\n",
    "def Gr(zln):\n",
    "    \"\"\"\n",
    "    Coeficiente de reflexion en la carga.\n",
    "    Impedancia de carga normalizada. \n",
    "    \"\"\"\n",
    "    return (zln-1)/(zln+1)"
   ]
  },
  {
   "cell_type": "markdown",
   "metadata": {},
   "source": [
    "Comprobamos cómo funciona. Tengamos, por ejemplo, $Z_0=75$ $\\Omega$ y $Z_L=25+50 \\jmath$ $\\Omega$."
   ]
  },
  {
   "cell_type": "code",
   "execution_count": 28,
   "metadata": {},
   "outputs": [
    {
     "name": "stdout",
     "output_type": "stream",
     "text": [
      "Once deleted, variables cannot be recovered. Proceed (y/[n])? y\n"
     ]
    }
   ],
   "source": [
    "reset"
   ]
  },
  {
   "cell_type": "code",
   "execution_count": 1,
   "metadata": {},
   "outputs": [],
   "source": [
    "from lines import *"
   ]
  },
  {
   "cell_type": "code",
   "execution_count": 30,
   "metadata": {},
   "outputs": [
    {
     "name": "stdout",
     "output_type": "stream",
     "text": [
      "Gamma=-2.00E-01+6.00E-01j\n",
      "Gamma (mod., phas. (deg))= 6.32E-01,108.4\n"
     ]
    }
   ],
   "source": [
    "zl=25.+50.j  # Load impedance \n",
    "z0=75.          # Line impedance\n",
    "zln=zl/z0       # Nomalized load\n",
    "ga=Gr(zln)     # Reflection coefficient from Gr function\n",
    "print('Gamma={0:9.2E}'.format(ga))   # Cartesian form\n",
    "print('Gamma (mod., phas. (deg))={0:9.2E},{1:5.1F}'.format(*C2pD(ga)))"
   ]
  },
  {
   "cell_type": "code",
   "execution_count": 31,
   "metadata": {
    "scrolled": true
   },
   "outputs": [
    {
     "name": "stdout",
     "output_type": "stream",
     "text": [
      "Gamma comprobado=-2.00E-01+6.00E-01j\n"
     ]
    }
   ],
   "source": [
    "ga_nomefio=(zl-z0)/(zl+z0)\n",
    "print('Gamma comprobado={0:9.2E}'.format(ga_nomefio))   # Cartesian form"
   ]
  },
  {
   "cell_type": "markdown",
   "metadata": {},
   "source": [
    "## Representación de $\\Gamma_L$ en el plano complejo"
   ]
  },
  {
   "cell_type": "markdown",
   "metadata": {},
   "source": [
    "Vamos a usar el siguiente código como punto de partida.  \n",
    "Seguimos con el ejemplo anterior."
   ]
  },
  {
   "cell_type": "code",
   "execution_count": 7,
   "metadata": {
    "scrolled": true
   },
   "outputs": [
    {
     "data": {
      "image/png": "[encoded data removed]",
      "text/plain": [
       "<Figure size 410.4x410.4 with 1 Axes>"
      ]
     },
     "metadata": {
      "needs_background": "light"
     },
     "output_type": "display_data"
    }
   ],
   "source": [
    "fig=plt.figure()\n",
    "fig.set_size_inches(5.7,5.7)\n",
    "plt.axis('equal')  # Squared figure\n",
    "plt.axis('off')    # whithout axis\n",
    "Line(-1,0,1,0)     # See lines_man notebook\n",
    "Line(0,-1,0,1)\n",
    "Circle(1)          # See lines_man notebook\n",
    "plt.text(1.02,0,'Re')\n",
    "plt.text(0,1.02,'Im')\n",
    "plt.show()"
   ]
  },
  {
   "cell_type": "markdown",
   "metadata": {},
   "source": [
    "Para hacer la representación gráfica usamos el objeto `.figure` y le damos un tamaño (en pulgadas). A continuación se le van añadiendo al dibujo diferentes componentes.\n",
    "En primer lugar hacemos el dibujo proporcional, `plt.axis('equal')`, de manera que un circulo no aparezca como una elipse (véase `lines_man`). Luego se eliminan los ejes: `plt.axis('off')`.\n",
    "Finalizados los detalles de apariencia del dibujo, añadimos una recta que representa el eje real y otra que representa el eje imaginario sin más que darle las coordenadas correspondientes de los puntos inicial y final: (-1,0), (1,0) para el eje real y (0,-1), (0,1) para el eje imaginario. El circulo unidad se hace con la función `Circle` definida, al igual que la función `Line`, en el paquete `lines.py`.\n",
    "\n",
    "El texto se le incorpora a la gráfica con la función `.text`. \n",
    "\n",
    "Finalmente se muestra el gráfico con el método `.show()`."
   ]
  },
  {
   "cell_type": "markdown",
   "metadata": {},
   "source": [
    "En las siguientes sentencias se guardan los valores de las impedancias de carga y de la línea en sendas variables y se calcula el valor de la impedancia de carga normalizada.\n",
    "\n",
    "Calculamos el coeficiente de reflexión en la carga y lo escribimos como número complejo, módulo y fase (en grados), usando la función `Gr` de `lines`.\n",
    "\n",
    "Usamos también la función `C2pdD` que transforma un número complejo, expresado en forma cartesiana, en módulo y fase (véase el notebook `Python_basic`).\n",
    "\n",
    "**Nota:** Las funciones que se definen en el paquete `lines` empiezan siempre con mayúsculas."
   ]
  },
  {
   "cell_type": "code",
   "execution_count": 32,
   "metadata": {},
   "outputs": [
    {
     "data": {
      "image/png": "[encoded data removed]",
      "text/plain": [
       "<Figure size 410.4x410.4 with 1 Axes>"
      ]
     },
     "metadata": {
      "needs_background": "light"
     },
     "output_type": "display_data"
    }
   ],
   "source": [
    "fig=plt.figure()\n",
    "fig.set_size_inches(5.7,5.7)\n",
    "plt.axis('equal')  # Squared figure\n",
    "plt.axis('off')    # whithout axis\n",
    "Line(-1,0,1,0)     # See lines_man notebook\n",
    "Line(0,-1,0,1)\n",
    "Circle(1)          # See lines_man notebook\n",
    "Point(ga.real,ga.imag,c='b')\n",
    "plt.text(1.02,0,'Re')\n",
    "plt.text(0,1.02,'Im')\n",
    "plt.show()"
   ]
  },
  {
   "cell_type": "markdown",
   "metadata": {},
   "source": [
    "El punto que representa el valor de $\\Gamma_L$ se hace con la función `Point` de `line` cuyos argumentos son las coordenadas $x$ e $y$, del punto a representar. Por eso se descompone $\\Gamma_L$ en sus partes real e imaginaria con los atributos `.real` y `.imag`."
   ]
  },
  {
   "cell_type": "markdown",
   "metadata": {},
   "source": [
    "Tareas a realizar:\n",
    "1. Dibujar el círculo de $\\Gamma$, es decir un círculo centrado en el origen y de radio $|\\Gamma_L|$\n",
    "2. Dibujar una línea que represente su módulo y vaya del origen al punto $\\Gamma_L$\n",
    "3. Dibujar el arco que represente la fase de $\\Gamma_L$. Considerar como radio la mitad del módulo.\n",
    "4. Dibujar en una misma figura los $\\Gamma_L$ correspondientes a las siguientes cargas normalizadas:\n",
    "    1. (r=1, x=0), (r=1, x=1), (r=1, x=-1), (r=1, x=2), (r=1, x=-2), (r=1, x=10), (r=1, x=-10)\n",
    "    2. (r=0, x=1), (r=1, x=1), (r=2, x=1), (r=3, x=1), (r=4, x=1), (r=10, x=1), (r=20, x=1)\n",
    "    3. Representar en una misma figura todos los puntos anteriores, unos de color azul y otros de color rojo."
   ]
  },
  {
   "cell_type": "code",
   "execution_count": 3,
   "metadata": {},
   "outputs": [
    {
     "data": {
      "image/png": "[encoded data removed]",
      "text/plain": [
       "<Figure size 410.4x410.4 with 1 Axes>"
      ]
     },
     "metadata": {
      "needs_background": "light"
     },
     "output_type": "display_data"
    }
   ],
   "source": [
    "xnsp=np.array([0,1,2,10])\n",
    "xnsn=xnsp*-1\n",
    "znsp=1+1.j*xnsp\n",
    "znsn=1+1.j*xnsn\n",
    "fig=plt.figure()\n",
    "fig.set_size_inches(5.7,5.7)\n",
    "plt.axis('equal')  # Squared figure\n",
    "plt.axis('off')    # whithout axis\n",
    "Line(-1,0,1,0)     # See lines_man notebook\n",
    "Line(0,-1,0,1)\n",
    "Circle(1)          # See lines_man notebook\n",
    "for i in znsp:\n",
    "    ga=Gr(i)\n",
    "    Point(ga.real,ga.imag,c='b')\n",
    "for i in znsn:\n",
    "    ga=Gr(i)\n",
    "    Point(ga.real,ga.imag,c='b')\n",
    "plt.text(1.02,0,'Re')\n",
    "plt.text(0,1.02,'Im')\n",
    "plt.show()"
   ]
  },
  {
   "cell_type": "code",
   "execution_count": 4,
   "metadata": {},
   "outputs": [
    {
     "data": {
      "image/png": "[encoded data removed]",
      "text/plain": [
       "<Figure size 410.4x410.4 with 1 Axes>"
      ]
     },
     "metadata": {
      "needs_background": "light"
     },
     "output_type": "display_data"
    }
   ],
   "source": [
    "xns=np.array([0,1,2,10,20])\n",
    "zns=xns+1.j\n",
    "fig=plt.figure()\n",
    "fig.set_size_inches(5.7,5.7)\n",
    "plt.axis('equal')  # Squared figure\n",
    "plt.axis('off')    # whithout axis\n",
    "Line(-1,0,1,0)     # See lines_man notebook\n",
    "Line(0,-1,0,1)\n",
    "Circle(1)          # See lines_man notebook\n",
    "for i in zns:\n",
    "    ga=Gr(i)\n",
    "    Point(ga.real,ga.imag,c='r')\n",
    "plt.text(1.02,0,'Re')\n",
    "plt.text(0,1.02,'Im')\n",
    "plt.show()"
   ]
  },
  {
   "cell_type": "code",
   "execution_count": null,
   "metadata": {},
   "outputs": [],
   "source": []
  }
 ],
 "metadata": {
  "kernelspec": {
   "display_name": "Python 3",
   "language": "python",
   "name": "python3"
  },
  "language_info": {
   "codemirror_mode": {
    "name": "ipython",
    "version": 3
   },
   "file_extension": ".py",
   "mimetype": "text/x-python",
   "name": "python",
   "nbconvert_exporter": "python",
   "pygments_lexer": "ipython3",
   "version": "3.8.5"
  }
 },
 "nbformat": 4,
 "nbformat_minor": 4
}
