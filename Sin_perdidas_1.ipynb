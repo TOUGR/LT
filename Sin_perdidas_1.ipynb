{
 "cells": [
  {
   "cell_type": "markdown",
   "id": "367c794e",
   "metadata": {},
   "source": [
    "# Problemas de líneas sin pérdidas en DF. 1"
   ]
  },
  {
   "cell_type": "markdown",
   "id": "bd129395",
   "metadata": {},
   "source": [
    "Los parámetros de una líneas sin pérdidas que opera a 100 MHz son $L_d=0.35$ $\\mu$H/m y $C_d=40$ pF/m. Encontrar $\\gamma$, $\\beta$, $\\lambda$, $Z_0$ y $v_f$.  "
   ]
  },
  {
   "cell_type": "code",
   "execution_count": 1,
   "id": "506371fb",
   "metadata": {},
   "outputs": [],
   "source": [
    "import numpy as np\n",
    "pi=np.pi"
   ]
  },
  {
   "cell_type": "code",
   "execution_count": 2,
   "id": "ea55d31d",
   "metadata": {},
   "outputs": [],
   "source": [
    "ld=0.35E-6\n",
    "cd=40E-12\n",
    "f=100E6"
   ]
  },
  {
   "cell_type": "code",
   "execution_count": 12,
   "id": "210dec0c",
   "metadata": {},
   "outputs": [
    {
     "name": "stdout",
     "output_type": "stream",
     "text": [
      "beta (rad/m)= 2.35\n",
      "longitud de onda (m)= 2.67\n",
      "Z0 (ohmios)=93.54\n",
      "velocidad de fase (m/s*1E8)= 2.67\n"
     ]
    }
   ],
   "source": [
    "w=2.*pi*f\n",
    "beta=w*np.sqrt(ld*cd)\n",
    "lo=2.*pi/beta\n",
    "z0=np.sqrt(ld/cd)\n",
    "vf=1/np.sqrt(ld*cd)\n",
    "print('beta (rad/m)={0:5.2F}'.format(beta))\n",
    "print('longitud de onda (m)={0:5.2F}'.format(lo))\n",
    "print('Z0 (ohmios)={0:5.2F}'.format(z0))\n",
    "print('velocidad de fase (m/s*1E8)={0:5.2F}'.format(vf*1E-8))"
   ]
  },
  {
   "cell_type": "markdown",
   "id": "064eeffb",
   "metadata": {},
   "source": [
    "Dada una línea sin pérdidas con $Z_0=75$ $\\Omega$ y $v_f=3 \\cdot 10^8$ m/s, determinar sus parámetros característicos.  "
   ]
  },
  {
   "cell_type": "code",
   "execution_count": 26,
   "id": "3d07a83d",
   "metadata": {},
   "outputs": [
    {
     "name": "stdout",
     "output_type": "stream",
     "text": [
      "Once deleted, variables cannot be recovered. Proceed (y/[n])? y\n"
     ]
    }
   ],
   "source": [
    "reset"
   ]
  },
  {
   "cell_type": "code",
   "execution_count": 27,
   "id": "c991f55e",
   "metadata": {},
   "outputs": [],
   "source": [
    "import numpy as np\n",
    "pi=np.pi"
   ]
  },
  {
   "cell_type": "code",
   "execution_count": 28,
   "id": "c42a1fe1",
   "metadata": {},
   "outputs": [],
   "source": [
    "z0=75\n",
    "vf=3E8"
   ]
  },
  {
   "cell_type": "code",
   "execution_count": 29,
   "id": "d8db4090",
   "metadata": {},
   "outputs": [],
   "source": [
    "ld=z0/vf\n",
    "cd=1/(vf*z0)"
   ]
  },
  {
   "cell_type": "code",
   "execution_count": 31,
   "id": "bba82e9b",
   "metadata": {},
   "outputs": [
    {
     "name": "stdout",
     "output_type": "stream",
     "text": [
      "Ld (micro H/m)= 0.25\n",
      "Cd (pico F/m)=44.44\n"
     ]
    }
   ],
   "source": [
    "print('Ld (micro H/m)={0:5.2F}'.format(ld*1E6))\n",
    "print('Cd (pico F/m)={0:5.2F}'.format(cd*1E12))"
   ]
  },
  {
   "cell_type": "markdown",
   "id": "aded7e59",
   "metadata": {},
   "source": [
    "La impedancia característica de una línea sin pérdidas es de $Z_0=70$ $\\Omega$. La inductancia por unidad de longitud es de $L_d=0.5$ $\\mu$H/m. Determinar: i) $C_d$, ii) $v_f$, iii) $\\beta$ y $\\lambda$ si la línea opera a 80 MHz, $\\Gamma_L$ si la línea tiene una carga de $Z_L= 60+\\jmath 40$ $\\Omega$."
   ]
  },
  {
   "cell_type": "code",
   "execution_count": 32,
   "id": "8f43ce15",
   "metadata": {},
   "outputs": [
    {
     "name": "stdout",
     "output_type": "stream",
     "text": [
      "Once deleted, variables cannot be recovered. Proceed (y/[n])? y\n"
     ]
    }
   ],
   "source": [
    "reset"
   ]
  },
  {
   "cell_type": "code",
   "execution_count": 33,
   "id": "0cb2ee44",
   "metadata": {},
   "outputs": [],
   "source": [
    "import numpy as np\n",
    "pi=np.pi\n",
    "R2d=180./pi"
   ]
  },
  {
   "cell_type": "code",
   "execution_count": 42,
   "id": "cd3deab7",
   "metadata": {},
   "outputs": [],
   "source": [
    "z0=70\n",
    "ld=0.5E-6\n",
    "f=80E6\n",
    "zl=60+40.j\n",
    "w=2.*pi*f"
   ]
  },
  {
   "cell_type": "code",
   "execution_count": 39,
   "id": "a988500b",
   "metadata": {},
   "outputs": [],
   "source": [
    "cd=ld/z0**2\n",
    "vf=1/np.sqrt(ld*cd)\n",
    "beta=w*np.sqrt(ld*cd)\n",
    "lo=2.*pi/beta\n",
    "gammaL=(zl-z0)/(zl+z0)"
   ]
  },
  {
   "cell_type": "code",
   "execution_count": 45,
   "id": "e9218d37",
   "metadata": {},
   "outputs": [
    {
     "name": "stdout",
     "output_type": "stream",
     "text": [
      "Cd (pico F/m)=102.04\n",
      "Velocidad de fase (m/s*1E8)= 1.40\n",
      "beta (rad/m)= 3.59\n",
      "longitud de onda (m)= 1.75\n",
      "Gamma_L=0.02+0.30j\n",
      "Gamma_L en modulo= 0.30 y fase (deg)=86.93\n"
     ]
    }
   ],
   "source": [
    "print('Cd (pico F/m)={0:5.2F}'.format(cd*1E12))\n",
    "print('Velocidad de fase (m/s*1E8)={0:5.2F}'.format(vf*1E-8))\n",
    "print('beta (rad/m)={0:5.2F}'.format(beta))\n",
    "print('longitud de onda (m)={0:5.2F}'.format(lo))\n",
    "print('Gamma_L={0:5.2F}'.format(gammaL))\n",
    "print('Gamma_L en modulo={0:5.2F} y fase (deg)={1:5.2F}'.format(abs(gammaL),np.angle(gammaL)*R2d))"
   ]
  },
  {
   "cell_type": "markdown",
   "id": "77b22167",
   "metadata": {},
   "source": [
    "Dada una línea sin pérdidas con $Z_0=50$ $\\Omega$ y $v_f=2 \\cdot 10^8$ m/s se ha determinado el voltaje incidente: $V^+(z,t)=200 \\cos (\\omega t- \\pi z)$ (V). Determinar: i)la longitud de onda $\\lambda$, ii) la frecuencia de trabajo $f$, iii) la intensidad incidente $I^+(z,t)$. "
   ]
  },
  {
   "cell_type": "code",
   "execution_count": 46,
   "id": "c9e602b3",
   "metadata": {},
   "outputs": [
    {
     "name": "stdout",
     "output_type": "stream",
     "text": [
      "Once deleted, variables cannot be recovered. Proceed (y/[n])? y\n"
     ]
    }
   ],
   "source": [
    "reset"
   ]
  },
  {
   "cell_type": "code",
   "execution_count": 47,
   "id": "6097bbff",
   "metadata": {},
   "outputs": [],
   "source": [
    "import numpy as np\n",
    "pi=np.pi"
   ]
  },
  {
   "cell_type": "code",
   "execution_count": 48,
   "id": "57d7e341",
   "metadata": {},
   "outputs": [],
   "source": [
    "z0=50\n",
    "vf=2E8\n",
    "vi0=200\n",
    "beta=pi"
   ]
  },
  {
   "cell_type": "code",
   "execution_count": 49,
   "id": "8cf443bf",
   "metadata": {},
   "outputs": [],
   "source": [
    "lo=2.*pi/beta\n",
    "w=vf*beta\n",
    "f=w/(2.*pi)\n",
    "ii0=vi0/z0"
   ]
  },
  {
   "cell_type": "code",
   "execution_count": 54,
   "id": "20e1e973",
   "metadata": {},
   "outputs": [
    {
     "name": "stdout",
     "output_type": "stream",
     "text": [
      "longitud de onda (m)= 2.00\n",
      "Frecuencia (MHz)100.00\n",
      "Intensidad inciedente (A) 4.00\n"
     ]
    }
   ],
   "source": [
    "print('longitud de onda (m)={0:5.2F}'.format(lo))\n",
    "print('Frecuencia (MHz){0:5.2F}'.format(f*1E-6))\n",
    "print('Intensidad inciedente (A){0:5.2F}'.format(ii0))"
   ]
  },
  {
   "cell_type": "code",
   "execution_count": null,
   "id": "55863c73",
   "metadata": {},
   "outputs": [],
   "source": []
  }
 ],
 "metadata": {
  "kernelspec": {
   "display_name": "Python 3 (ipykernel)",
   "language": "python",
   "name": "python3"
  },
  "language_info": {
   "codemirror_mode": {
    "name": "ipython",
    "version": 3
   },
   "file_extension": ".py",
   "mimetype": "text/x-python",
   "name": "python",
   "nbconvert_exporter": "python",
   "pygments_lexer": "ipython3",
   "version": "3.9.7"
  }
 },
 "nbformat": 4,
 "nbformat_minor": 5
}
