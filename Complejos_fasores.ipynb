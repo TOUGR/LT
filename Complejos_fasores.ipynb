{
 "cells": [
  {
   "cell_type": "markdown",
   "metadata": {},
   "source": [
    "# Revisión del álgebra compleja básica y fasores\n",
    "\n",
    "Este notebook sirve como material para la clase de grupos reducidos"
   ]
  },
  {
   "cell_type": "markdown",
   "metadata": {},
   "source": [
    "### Evaluar el siguiente número complejo: \n",
    "$$\\jmath^3  \\left( \\frac{2 + \\jmath}{2 - 3 \\jmath} \\right)^{\\ast} + \\sqrt{3 +\\jmath} + {e}^{\\jmath 45^o} + 6 \\angle 30^o$$"
   ]
  },
  {
   "cell_type": "markdown",
   "metadata": {},
   "source": [
    "En Python se puede trabajar con complejos de forma sencilla y directa. Para usar funciones como la exponencial o la raíz cuadrada necesitamos cargar el paquete `math` y/o el paquete `numpy`. Pero usando `numpy`, además de tener todas las funciones matemáticas, podemos aplicarlas a los arrays de `numpy`. Por esta razón vamos a usar siempre el paquete `numpy`.\n",
    "\n",
    "Importamos el paquete con la orden `import`, nombre del paquete y el alias (usado para llamar a los comandos del paquete sin necesidad de escribir el nombre del paquete completo)."
   ]
  },
  {
   "cell_type": "code",
   "execution_count": 1,
   "metadata": {},
   "outputs": [],
   "source": [
    "import numpy as np"
   ]
  },
  {
   "cell_type": "markdown",
   "metadata": {},
   "source": [
    "Vamos a ir analizando cada término del ejemplo y ver cómo se implementa.\n",
    "\n",
    "Para el primer término, $\\jmath^3$, la unidad imaginaria en Python se escribe como `1j` o `1.j`. Otro número complejo, que tenga parte real e imaginaria se escribe como `3+2j`, por ejemplo.\n",
    "\n",
    "La parte real e imaginaria de un complejo se obtiene como atributo del objeto de la clase `complex`."
   ]
  },
  {
   "cell_type": "code",
   "execution_count": 2,
   "metadata": {},
   "outputs": [
    {
     "name": "stdout",
     "output_type": "stream",
     "text": [
      "j**3= (-0-1j) \n",
      "j**2= (-1+0j) \n",
      "Partes real e imaginaria de j**3:  -0.0 -1.0\n"
     ]
    }
   ],
   "source": [
    "p1= 1j**3\n",
    "print('j**3=',p1,'\\nj**2=',1.j**2,\\\n",
    "      '\\nPartes real e imaginaria de j**3: ',p1.real, p1.imag)"
   ]
  },
  {
   "cell_type": "markdown",
   "metadata": {},
   "source": [
    "Para el siguiente término, $\\left( \\frac{2 + \\jmath}{2 - 3 \\jmath} \\right)^{\\ast}$, hay que evaluar el complejo conjugado, que en Python se hace con la función `np.conjugate`.\n",
    "\n",
    "Podemos comprobar como el conjugado de un cociente es el cociente de los conjugados. "
   ]
  },
  {
   "cell_type": "code",
   "execution_count": 3,
   "metadata": {},
   "outputs": [
    {
     "name": "stdout",
     "output_type": "stream",
     "text": [
      "(0.07692307692307691-0.6153846153846154j) (0.07692307692307691-0.6153846153846154j)\n"
     ]
    }
   ],
   "source": [
    "p2= np.conjugate((2+1j)/(2-3j))\n",
    "p2n=2+1j\n",
    "p2d=2-3j\n",
    "print(p2,np.conjugate(p2n)/np.conjugate(p2d))"
   ]
  },
  {
   "cell_type": "markdown",
   "metadata": {},
   "source": [
    "El primer sumando, $\\jmath^3  \\left( \\frac{2 + \\jmath}{2 - 3 \\jmath} \\right)^{\\ast}$, se obtiene sin más que multiplicar `p1` por  `p2`. \n",
    "En Python no hay que declarar el tipo de variables. La suma, resta, producto y división se hacen de forma automática tanto para reales como para complejos.\n",
    "\n",
    "Podemos comprobar que el producto de dos números complejos es el producto de módulos (función `abs`), y la fase (función `np.angle`) es la suma de las fases. Las fases las hemos pasado a grados en lugar de radianes que es la unidad en que se expresa la función `np.angle`."
   ]
  },
  {
   "cell_type": "code",
   "execution_count": 3,
   "metadata": {},
   "outputs": [
    {
     "data": {
      "text/plain": [
       "116.56505117707799"
      ]
     },
     "execution_count": 3,
     "metadata": {},
     "output_type": "execute_result"
    }
   ],
   "source": [
    "np.angle(-1+2j)*180/np.pi"
   ]
  },
  {
   "cell_type": "code",
   "execution_count": 4,
   "metadata": {},
   "outputs": [
    {
     "data": {
      "text/plain": [
       "-63.43494882292202"
      ]
     },
     "execution_count": 4,
     "metadata": {},
     "output_type": "execute_result"
    }
   ],
   "source": [
    "np.arctan(-2)*180/np.pi"
   ]
  },
  {
   "cell_type": "code",
   "execution_count": 7,
   "metadata": {},
   "outputs": [
    {
     "data": {
      "text/plain": [
       "-26.56505117707799"
      ]
     },
     "execution_count": 7,
     "metadata": {},
     "output_type": "execute_result"
    }
   ],
   "source": [
    "np.angle(2-1j)*180/np.pi"
   ]
  },
  {
   "cell_type": "code",
   "execution_count": 5,
   "metadata": {},
   "outputs": [
    {
     "data": {
      "text/plain": [
       "153.43494882292202"
      ]
     },
     "execution_count": 5,
     "metadata": {},
     "output_type": "execute_result"
    }
   ],
   "source": [
    "np.angle(-2+1j)*180/np.pi"
   ]
  },
  {
   "cell_type": "code",
   "execution_count": 30,
   "metadata": {},
   "outputs": [
    {
     "name": "stdout",
     "output_type": "stream",
     "text": [
      "(-0.615384615385-0.0769230769231j)\n",
      "0.620173672946 1.0 0.620173672946 -172.874983651 -90.0 -82.8749836511\n"
     ]
    }
   ],
   "source": [
    "s1= p1*p2\n",
    "print(s1)\n",
    "print(abs(s1),abs(p1),abs(p2),np.angle(s1)*180/np.pi,\\\n",
    "      np.angle(p1)*180/np.pi,np.angle(p2)*180/np.pi)"
   ]
  },
  {
   "cell_type": "markdown",
   "metadata": {},
   "source": [
    "El siguiente término, $\\sqrt{3 +\\jmath}$, corresponde a la raíz cuadrada de un número complejo. En Python se hace de forma natural, aplicando la regla de la raíz de un complejo es la raíz del módulo y la fase se divide entre 2."
   ]
  },
  {
   "cell_type": "code",
   "execution_count": 5,
   "metadata": {},
   "outputs": [
    {
     "name": "stdout",
     "output_type": "stream",
     "text": [
      "(1.755317301824428+0.28484878459314106j) 1.7782794100389228 9.217474411461005\n",
      "3.1622776601683795 18.43494882292201\n"
     ]
    }
   ],
   "source": [
    "s2= np.sqrt(3+1j)\n",
    "print(s2, abs(s2),np.angle(s2)*180/np.pi)\n",
    "print(abs(3+1j), np.angle(3+1j)*180/np.pi)"
   ]
  },
  {
   "cell_type": "markdown",
   "metadata": {},
   "source": [
    "Los dos últimos sumandos del problema corresponden a diferentes formas de expresar un complejo en forma polar, es decir, con módulo y fase. En primer sumando, ${e}^{\\jmath 45^o}$ tiene módulo unidad y fase $45^o$, mientras que el segundo, $6 \\angle 30^o$ es la forma habitual de expresar el complejo con módulo 6 y fase $30^o$ en teoría de circuitos.\n",
    "\n",
    "Podemos comprobar que se cumple la identidad de Euler: $c e^{\\jmath d}=c (\\cos(d)+\\jmath \\sin(d))$.\n",
    "Obsérvese que para usar la fase, tanto en la exponencial como en las funciones trigonométricas, hay que pasarla a radianes."
   ]
  },
  {
   "cell_type": "code",
   "execution_count": 41,
   "metadata": {},
   "outputs": [
    {
     "name": "stdout",
     "output_type": "stream",
     "text": [
      "(0.707106781187+0.707106781187j) (0.707106781187+0.707106781187j)\n",
      "(5.19615242271+3j) (5.19615242271+3j)\n"
     ]
    }
   ],
   "source": [
    "s3= np.exp(1j*45*np.pi/180)\n",
    "s4= 6*np.exp(1j*30*np.pi/180)\n",
    "print(s3, np.cos(45*np.pi/180)+1.j*np.sin(45*np.pi/180))\n",
    "print(s4, 6*(np.cos(30*np.pi/180)+1.j*np.sin(30*np.pi/180)))"
   ]
  },
  {
   "cell_type": "markdown",
   "metadata": {},
   "source": [
    "El resultado final se obtiene sumando los diferentes términos.\n",
    "\n",
    "La escritura de los términos de forma directa no es complicada."
   ]
  },
  {
   "cell_type": "code",
   "execution_count": 42,
   "metadata": {},
   "outputs": [
    {
     "name": "stdout",
     "output_type": "stream",
     "text": [
      "(7.04319189033+3.91503248886j)\n",
      "(7.04319189033+3.91503248886j)\n"
     ]
    }
   ],
   "source": [
    "print(s1+s2+s3+s4)\n",
    "print((1j**3)*np.conjugate((2+1j)/(2-3j))+np.sqrt(3+1j)+\\\n",
    "      np.exp(1j*45*np.pi/180)+6*np.exp(1j*30*np.pi/180))"
   ]
  },
  {
   "cell_type": "markdown",
   "metadata": {},
   "source": [
    "### Ejercicios \n",
    "\n",
    "1. Demostrar que $1/\\jmath=-\\jmath$\n",
    "2. Demostrar la famosa expresión $e^{-\\jmath \\pi}=-1$. Demostrar también: $e^{\\jmath \\pi}=-1$.\n",
    "3. Demostrar que un número complejo y su negativo tienen el mismo módulo y una diferencia de fase de $\\pi$\n",
    "4. Hacer la representación gráfica en el plano complejo de un número y su complejo conjugado. Por ejemplo $-1+\\jmath$.\n",
    "5. Demostrar que la raíz cuadrada de un número complejo tiene dos soluciones y determinar su valor. Explicar qué ocurre si el número es real, es decir número complejo con parte imaginaria igual a cero."
   ]
  },
  {
   "cell_type": "markdown",
   "metadata": {},
   "source": [
    "## Ejercicios de fasores"
   ]
  },
  {
   "cell_type": "markdown",
   "metadata": {},
   "source": [
    " Hacer una representación gráfica de una magnitud fasorial de módulo $3$ y fase $45^o$. Véase el ejemplo 1.3."
   ]
  },
  {
   "cell_type": "code",
   "execution_count": 8,
   "metadata": {},
   "outputs": [],
   "source": [
    "import numpy as np\n",
    "import matplotlib.pyplot as plt"
   ]
  },
  {
   "cell_type": "code",
   "execution_count": 9,
   "metadata": {},
   "outputs": [
    {
     "data": {
      "image/png": "[encoded data removed]",
      "text/plain": [
       "<Figure size 432x288 with 1 Axes>"
      ]
     },
     "metadata": {
      "needs_background": "light"
     },
     "output_type": "display_data"
    }
   ],
   "source": [
    "w=1\n",
    "tiempos=np.arange(0,30,0.1)\n",
    "volta=3*np.cos(w*tiempos+45*np.pi/180)\n",
    "plt.plot(tiempos,volta)\n",
    "#plt.grid()\n",
    "#plt.xlabel('Tiempo (s)')\n",
    "#plt.ylabel('Voltajes (V)')\n",
    "plt.show()"
   ]
  },
  {
   "cell_type": "markdown",
   "metadata": {},
   "source": [
    "## Ejercicios"
   ]
  },
  {
   "cell_type": "markdown",
   "metadata": {},
   "source": [
    "Expresar los siguientes voltajes en forma fasorial:\n",
    "\n",
    "i) $V(x,t)=10 \\cos(10^8 t- 10 x+60^o)$\n",
    "\n",
    "ii) $V(x,t)=6 e^{-3 x}\\sin(\\omega t - 2 x)$"
   ]
  },
  {
   "cell_type": "markdown",
   "metadata": {},
   "source": [
    "Expresar los siguientes fasores en forma dependiente del tiempo:\n",
    "\n",
    "i) $V=5 \\jmath e^{-\\jmath 20^o}$\n",
    "\n",
    "ii) $V(z)= \\sin(\\pi z) e^{\\jmath z}$\n",
    "\n",
    "iii) $V(z)=10 e^{\\jmath 2 \\pi z/3} $"
   ]
  },
  {
   "cell_type": "code",
   "execution_count": null,
   "metadata": {
    "collapsed": true
   },
   "outputs": [],
   "source": []
  }
 ],
 "metadata": {
  "kernelspec": {
   "display_name": "Python 3",
   "language": "python",
   "name": "python3"
  },
  "language_info": {
   "codemirror_mode": {
    "name": "ipython",
    "version": 3
   },
   "file_extension": ".py",
   "mimetype": "text/x-python",
   "name": "python",
   "nbconvert_exporter": "python",
   "pygments_lexer": "ipython3",
   "version": "3.8.5"
  }
 },
 "nbformat": 4,
 "nbformat_minor": 2
}
