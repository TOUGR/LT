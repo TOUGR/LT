{
 "cells": [
  {
   "cell_type": "markdown",
   "metadata": {},
   "source": [
    "# Transitorios"
   ]
  },
  {
   "cell_type": "markdown",
   "metadata": {},
   "source": [
    "Dada una línea sin pérdidas de longitud $l=100$ m suministra energía a una carga de $Z_L=100$ $\\Omega$. El generador es de continua, suministra un voltaje de 10 V y tiene una impedancia interna de 50 $\\Omega$. En $t=0$ se conecta el generador a la fuente. Estudiar el fenómeno transitorio y determinar voltaje e intensidad a mitad de la línea. Considerar que $Z_0=75$ $\\Omega$ and $v=0.25 c$."
   ]
  },
  {
   "cell_type": "markdown",
   "metadata": {},
   "source": [
    "Repetir el ejercicio para diferentes cargas:\n",
    "- $Z_L$= $\\infty$\n",
    "- $Z_L$= 0 $\\Omega$\n",
    "- $Z_L$= 25 $\\Omega$"
   ]
  },
  {
   "cell_type": "code",
   "execution_count": 7,
   "metadata": {},
   "outputs": [
    {
     "name": "stdout",
     "output_type": "stream",
     "text": [
      "Once deleted, variables cannot be recovered. Proceed (y/[n])? y\n"
     ]
    }
   ],
   "source": [
    "%reset"
   ]
  },
  {
   "cell_type": "code",
   "execution_count": 1,
   "metadata": {},
   "outputs": [],
   "source": [
    "import numpy as np\n",
    "import matplotlib.pyplot as plt"
   ]
  },
  {
   "cell_type": "markdown",
   "metadata": {},
   "source": [
    "Definimos unas variables con los datos del problema:"
   ]
  },
  {
   "cell_type": "code",
   "execution_count": 3,
   "metadata": {},
   "outputs": [],
   "source": [
    "# Trabajamos en el SI. Datos del problema\n",
    "v0g=10.   # Voltaje del generador\n",
    "z0=75.    # Impedancia caracteristica\n",
    "zg=50.   # Impedancia del generador\n",
    "zl=100    # Impedancia de carga\n",
    "c=299792458.0\n",
    "vo=0.25*c   # Velocidad de onda\n",
    "lol=100.    # Longitud de la linea"
   ]
  },
  {
   "cell_type": "markdown",
   "metadata": {},
   "source": [
    "La solución del problema según la teoría de circuitos de parámetros localizados es:"
   ]
  },
  {
   "cell_type": "code",
   "execution_count": 12,
   "metadata": {},
   "outputs": [
    {
     "name": "stdout",
     "output_type": "stream",
     "text": [
      "Intensidad segun TC (mA): 66.667\n",
      "Voltaje segun TC (V): 6.667\n"
     ]
    }
   ],
   "source": [
    "i_esta=v0g/(zg+zl)         # Intensidad segun TC\n",
    "v_esta=zl*i_esta      # Voltaje segun TC\n",
    "print('Intensidad segun TC (mA): {0:6.3F}'.format(i_esta*1E3))\n",
    "print('Voltaje segun TC (V): {0:5.3F}'.format(v_esta))"
   ]
  },
  {
   "cell_type": "markdown",
   "metadata": {},
   "source": [
    "El tiempo que tarda la onda en recorrer la línea viene dado por:"
   ]
  },
  {
   "cell_type": "code",
   "execution_count": 5,
   "metadata": {},
   "outputs": [
    {
     "name": "stdout",
     "output_type": "stream",
     "text": [
      "Incremento temporal (microsegundos):  1.334\n"
     ]
    }
   ],
   "source": [
    "dt=lol/vo           # Intervalo de tiempo (en ns)\n",
    "print('Incremento temporal (microsegundos): {0:6.3F}'.format(dt*1.e6))"
   ]
  },
  {
   "cell_type": "markdown",
   "metadata": {},
   "source": [
    "En $t=0^+$ la onda se empieza a propagar por el comienzo de la línea (al lado del generador):"
   ]
  },
  {
   "cell_type": "code",
   "execution_count": 10,
   "metadata": {},
   "outputs": [
    {
     "name": "stdout",
     "output_type": "stream",
     "text": [
      "Intensidad a la entrada (mA): 80.000\n",
      "Voltaje a la entrada (V): 6.000\n"
     ]
    }
   ],
   "source": [
    "iin=v0g/(zg+z0)         # Intensidad inicial\n",
    "vin=z0*iin              # Voltaje inicial\n",
    "print('Intensidad a la entrada (mA): {0:6.3F}'.format(iin*1E3))\n",
    "print('Voltaje a la entrada (V): {0:5.3F}'.format(vin))"
   ]
  },
  {
   "cell_type": "markdown",
   "metadata": {},
   "source": [
    "El comportamiento de la onda en la línea de transmisión viene determinado por los coeficientes de reflexión en la carga y en el generador:"
   ]
  },
  {
   "cell_type": "code",
   "execution_count": 11,
   "metadata": {},
   "outputs": [
    {
     "name": "stdout",
     "output_type": "stream",
     "text": [
      "Coeficiente de reflexion en la carga=0.1429\n",
      "Coeficiente de reflexion en el generador=-0.2000\n"
     ]
    }
   ],
   "source": [
    "gammaL=(zl-z0)/(zl+z0)  # Coef. reflex. carga\n",
    "gammaG=(zg-z0)/(zg+z0)  # Coef. reflex. generador\n",
    "print('Coeficiente de reflexion en la carga={0:5.4F}'.format(gammaL))\n",
    "print('Coeficiente de reflexion en el generador={0:5.4F}'.format(gammaG))"
   ]
  },
  {
   "cell_type": "markdown",
   "metadata": {},
   "source": [
    "Estos valores se usarán más abajo. Corresponde a la transcripción en código de la sección 1.5.1."
   ]
  },
  {
   "cell_type": "markdown",
   "metadata": {},
   "source": [
    "Se comienza definiendo los vectores donde se guardan los voltajes e intensidades reflejados de forma sucesiva en los límites físicos de la línea (generador, carga).\n",
    "Hay que dimensionar un número más que el valor de ndt, porque el primer valor corresponde al 0. \n",
    "En el intervalo 0 la onda se propaga desde el generador a la carga (onda incidente) y no tiene parte reflejada.\n",
    "Comenzamos el ciclo en el intervalo 1, cuando la onda se ha reflejado en la carga y vuelve desde la carga al generador.\n",
    "Si el índice es par, el voltaje reflejado corresponde al valor anterior multiplicado por $\\Gamma_G$.\n",
    "Si el índice es impar hay que multiplicar por $\\Gamma_L$. \n",
    "\n",
    "Para la intensidad hay que considerar el signo negativo en la ecuación (1.9)."
   ]
  },
  {
   "cell_type": "code",
   "execution_count": 6,
   "metadata": {},
   "outputs": [],
   "source": [
    "def transih(t):\n",
    "### Variables globales: dt, vin, z0, gammaG, gammaL ###\n",
    "    ndt=int(np.floor(t/dt) )      # Numero de intervalos con reflexion en t\n",
    "    ins=np.ones(ndt+1,dtype=float)    # Intensidades reflejadas\n",
    "    inst=np.ones(ndt+1,dtype=float)   # Intensidades totales\n",
    "    vos=np.ones(ndt+1,dtype=float)    # Voltajes reflejados\n",
    "    vost=np.ones(ndt+1,dtype=float)   # Voltajes totales\n",
    "    vos[0]=vin\n",
    "    ins[0]=vin/z0\n",
    "    vost[0]=vos[0]\n",
    "    inst[0]=ins[0]\n",
    "    for i in range(1,ndt+1):          # Si ndt==0 no hace nada\n",
    "        if i%2 != 0:                  # Impar\n",
    "            vr=vos[i-1]*gammaL\n",
    "            ir=-vr/z0   \n",
    "        else:\n",
    "            vr=vos[i-1]*gammaG\n",
    "            ir=vr/z0    \n",
    "        vos[i]=vr\n",
    "        vost[i]=vost[i-1]+vr\n",
    "        ins[i]=ir\n",
    "        inst[i]=inst[i-1]+ir\n",
    "    return (vos,ins,vost,inst)\n"
   ]
  },
  {
   "cell_type": "code",
   "execution_count": 7,
   "metadata": {},
   "outputs": [],
   "source": [
    "def transizt(z,t):\n",
    "### Variables globales: dt, vin, z0, gammaG, gammaL, vo ###\n",
    "    vose , inse , voste, inste = transih(t)\n",
    "    ndt=int(np.floor(t/dt))     # Numero de intervalos cumplidos\n",
    "    rdt=t-ndt*dt                # Resto del tiempo\n",
    "    if ndt == 0:\n",
    "        if z<rdt*vo:  # La onda llega a z\n",
    "            return voste[0],inste[0]\n",
    "        else:\n",
    "            return 0,0\n",
    "    elif ndt%2 == 0:    # no par de reflexiones\n",
    "        if z<rdt*vo:  # La onda reflejada llega a z\n",
    "            return voste[ndt],inste[ndt]\n",
    "        else:         \n",
    "            return voste[ndt-1],inste[ndt-1]\n",
    "    else:             # no impar de reflexiones\n",
    "        if lol-z<rdt*vo:      \n",
    "            return voste[ndt],inste[ndt]\n",
    "        else:\n",
    "            return voste[ndt-1],inste[ndt-1]"
   ]
  },
  {
   "cell_type": "code",
   "execution_count": 18,
   "metadata": {},
   "outputs": [
    {
     "name": "stdout",
     "output_type": "stream",
     "text": [
      "Voltajes reflejados (V)=\n",
      " [ 6.00000000e+00  8.57142857e-01 -1.71428571e-01 -2.44897959e-02\n",
      "  4.89795918e-03  6.99708455e-04]\n",
      "Intensidades reflejadas (mA)=\n",
      " [ 8.00000000e+01 -1.14285714e+01 -2.28571429e+00  3.26530612e-01\n",
      "  6.53061224e-02 -9.32944606e-03]\n"
     ]
    }
   ],
   "source": [
    "vosp,insp,vostp,instp = transih(7e-6)\n",
    "print('Voltajes reflejados (V)=\\n',vosp)\n",
    "print('Intensidades reflejadas (mA)=\\n',insp*1E3)"
   ]
  },
  {
   "cell_type": "code",
   "execution_count": 19,
   "metadata": {},
   "outputs": [
    {
     "name": "stdout",
     "output_type": "stream",
     "text": [
      "Voltaje (V) e intensidad (mA) a mitad de la linea en t=5 micro s\n",
      " 6.661224489795917 \n",
      " 66.6122448979592\n"
     ]
    }
   ],
   "source": [
    "vz2,iz2=transizt(lol/2,5E-6)\n",
    "print('Voltaje (V) e intensidad (mA) a mitad de la linea en t=5 micro s\\n',vz2,'\\n',iz2*1E3)"
   ]
  },
  {
   "cell_type": "code",
   "execution_count": 20,
   "metadata": {},
   "outputs": [],
   "source": [
    "ndtrepre=6\n",
    "tiempos=np.linspace(0,ndtrepre,100)*dt\n",
    "voltajes=np.zeros(100)\n",
    "vfis=np.ones(100)*v_esta\n",
    "ifis=np.ones(100)*i_esta\n",
    "intensidades=np.zeros(100)\n",
    "for i, tiempo in enumerate(tiempos):\n",
    "    voltajes[i] , intensidades[i] = transizt(lol/2,tiempo)"
   ]
  },
  {
   "cell_type": "code",
   "execution_count": 21,
   "metadata": {
    "scrolled": true
   },
   "outputs": [
    {
     "data": {
      "image/png": "[encoded data removed]",
      "text/plain": [
       "<Figure size 432x288 with 1 Axes>"
      ]
     },
     "metadata": {
      "needs_background": "light"
     },
     "output_type": "display_data"
    }
   ],
   "source": [
    "plt.plot(tiempos*1e6,voltajes,c='b',label='V(t)')\n",
    "plt.plot(tiempos*1e6,vfis,c='r',label='V final')\n",
    "plt.grid()\n",
    "plt.xlabel('Tiempo (micro s)')\n",
    "plt.ylabel('Voltaje en l/2 (V)')\n",
    "plt.legend(loc=4)\n",
    "plt.show()"
   ]
  },
  {
   "cell_type": "code",
   "execution_count": 23,
   "metadata": {},
   "outputs": [
    {
     "data": {
      "image/png": "[encoded data removed]",
      "text/plain": [
       "<Figure size 432x288 with 1 Axes>"
      ]
     },
     "metadata": {
      "needs_background": "light"
     },
     "output_type": "display_data"
    }
   ],
   "source": [
    "plt.plot(tiempos*1e6,intensidades*1E3,c='b',label='I(t)')\n",
    "plt.plot(tiempos*1e6,ifis*1E3,c='r',label='I final')\n",
    "plt.grid()\n",
    "plt.xlabel('Tiempo (micro s)')\n",
    "plt.ylabel('Intensidad en l/2 (mA)')\n",
    "plt.legend(loc=4)\n",
    "plt.show()"
   ]
  },
  {
   "cell_type": "markdown",
   "metadata": {},
   "source": [
    "### Caso con $Z_L=\\infty$\n",
    "\n",
    "Es el mismo caso anterior pero con la línea en abierto."
   ]
  },
  {
   "cell_type": "code",
   "execution_count": 2,
   "metadata": {},
   "outputs": [],
   "source": [
    "# Trabajamos en el SI. Datos del problema\n",
    "v0g=10.   # Voltaje del generador\n",
    "z0=75.    # Impedancia caracteristica\n",
    "zg=50.   # Impedancia del generador\n",
    "zl=100E6    # Impedancia de carga\n",
    "c=299792458.0\n",
    "vo=0.25*c   # Velocidad de onda\n",
    "lol=100.    # Longitud de la linea"
   ]
  },
  {
   "cell_type": "code",
   "execution_count": 3,
   "metadata": {},
   "outputs": [
    {
     "name": "stdout",
     "output_type": "stream",
     "text": [
      "Intensidad a la entrada (A): 8.000E-02\n",
      "Voltaje a la entrada (V): 6.000E+00\n",
      "Intensidad segun TC (A): 1.000E-07\n",
      "Voltaje segun TC (V): 1.000E+01\n",
      "Incremento temporal (microsegundos):  1.334\n"
     ]
    }
   ],
   "source": [
    "iin=v0g/(zg+z0)         # Intensidad inicial\n",
    "vin=z0*iin              # Voltaje inicial\n",
    "dt=lol/vo           # Intervalo de tiempo (en ns)\n",
    "ifi=v0g/(zg+zl)         # Intensidad segun TC\n",
    "vfi=zl*ifi      # Voltaje segun TC\n",
    "print('Intensidad a la entrada (A): {0:9.3E}'.format(iin))\n",
    "print('Voltaje a la entrada (V): {0:8.3E}'.format(vin))\n",
    "print('Intensidad segun TC (A): {0:9.3E}'.format(ifi))\n",
    "print('Voltaje segun TC (V): {0:8.3E}'.format(vfi))\n",
    "print('Incremento temporal (microsegundos): {0:6.3F}'.format(dt*1.e6))"
   ]
  },
  {
   "cell_type": "code",
   "execution_count": 4,
   "metadata": {},
   "outputs": [
    {
     "name": "stdout",
     "output_type": "stream",
     "text": [
      "Coeficiente de reflexion en la carga=1.0000\n",
      "Coeficiente de reflexion en el generador=-0.2000\n"
     ]
    }
   ],
   "source": [
    "gammaL=(zl-z0)/(zl+z0)  # Coef. reflex. carga\n",
    "gammaG=(zg-z0)/(zg+z0)  # Coef. reflex. generador\n",
    "print('Coeficiente de reflexion en la carga={0:5.4F}'.format(gammaL))\n",
    "print('Coeficiente de reflexion en el generador={0:5.4F}'.format(gammaG))"
   ]
  },
  {
   "cell_type": "code",
   "execution_count": 8,
   "metadata": {},
   "outputs": [
    {
     "name": "stdout",
     "output_type": "stream",
     "text": [
      "[ 6.          5.999991   -1.1999982  -1.1999964   0.23999928  0.23999892]\n",
      "[ 0.08       -0.07999988 -0.01599998  0.01599995  0.00319999 -0.00319999]\n"
     ]
    }
   ],
   "source": [
    "vosp,insp,vostp,instp = transih(7e-6)\n",
    "print(vosp)\n",
    "print(insp)"
   ]
  },
  {
   "cell_type": "code",
   "execution_count": 9,
   "metadata": {},
   "outputs": [
    {
     "data": {
      "text/plain": [
       "(9.5999964, 9.599996400599942e-08)"
      ]
     },
     "execution_count": 9,
     "metadata": {},
     "output_type": "execute_result"
    }
   ],
   "source": [
    "transizt(lol/2,5E-6)"
   ]
  },
  {
   "cell_type": "code",
   "execution_count": 10,
   "metadata": {},
   "outputs": [],
   "source": [
    "ndtrepre=6\n",
    "tiempos=np.linspace(0,ndtrepre,100)*dt\n",
    "voltajes=np.zeros(100)\n",
    "vfis=np.ones(100)*vfi\n",
    "ifis=np.ones(100)*ifi\n",
    "intensidades=np.zeros(100)\n",
    "for i, tiempo in enumerate(tiempos):\n",
    "    voltajes[i] , intensidades[i] = transizt(lol/2,tiempo)"
   ]
  },
  {
   "cell_type": "code",
   "execution_count": 11,
   "metadata": {
    "scrolled": true
   },
   "outputs": [
    {
     "data": {
      "image/png": "[encoded data removed]",
      "text/plain": [
       "<Figure size 432x288 with 1 Axes>"
      ]
     },
     "metadata": {
      "needs_background": "light"
     },
     "output_type": "display_data"
    }
   ],
   "source": [
    "plt.plot(tiempos*1e6,voltajes,c='b',label='V(t)')\n",
    "plt.plot(tiempos*1e6,vfis,c='r',label='V final')\n",
    "plt.grid()\n",
    "plt.xlabel('Tiempo (micro s)')\n",
    "plt.ylabel('Voltaje en l/2 (V)')\n",
    "plt.legend(loc=4)\n",
    "plt.show()"
   ]
  },
  {
   "cell_type": "code",
   "execution_count": 12,
   "metadata": {
    "scrolled": true
   },
   "outputs": [
    {
     "data": {
      "image/png": "[encoded data removed]",
      "text/plain": [
       "<Figure size 432x288 with 1 Axes>"
      ]
     },
     "metadata": {
      "needs_background": "light"
     },
     "output_type": "display_data"
    }
   ],
   "source": [
    "plt.plot(tiempos*1e6,intensidades,c='b',label='I(t)')\n",
    "plt.plot(tiempos*1e6,ifis,c='r',label='I final')\n",
    "plt.grid()\n",
    "plt.xlabel('Tiempo (micro s)')\n",
    "plt.ylabel('Intensidad en l/2 (A)')\n",
    "plt.legend(loc=1)\n",
    "plt.show()"
   ]
  },
  {
   "cell_type": "markdown",
   "metadata": {},
   "source": [
    "### Caso con $Z_L=0$\n",
    "\n",
    "Mismo caso anterior, pero con la línea en corto."
   ]
  },
  {
   "cell_type": "code",
   "execution_count": 13,
   "metadata": {},
   "outputs": [],
   "source": [
    "# Trabajamos en el SI. Datos del problema\n",
    "v0g=10.   # Voltaje del generador\n",
    "z0=75.    # Impedancia caracteristica\n",
    "zg=50.   # Impedancia del generador\n",
    "zl=0    # Impedancia de carga\n",
    "c=299792458.0\n",
    "vo=0.25*c   # Velocidad de onda\n",
    "lol=100.    # Longitud de la linea"
   ]
  },
  {
   "cell_type": "code",
   "execution_count": 14,
   "metadata": {},
   "outputs": [
    {
     "name": "stdout",
     "output_type": "stream",
     "text": [
      "Intensidad a la entrada (A): 8.000E-02\n",
      "Voltaje a la entrada (V): 6.000E+00\n",
      "Intensidad segun TC (A): 2.000E-01\n",
      "Voltaje segun TC (V): 0.000E+00\n",
      "Incremento temporal (microsegundos):  1.334\n"
     ]
    }
   ],
   "source": [
    "iin=v0g/(zg+z0)         # Intensidad inicial\n",
    "vin=z0*iin              # Voltaje inicial\n",
    "dt=lol/vo           # Intervalo de tiempo (en ns)\n",
    "ifi=v0g/(zg+zl)         # Intensidad segun TC\n",
    "vfi=zl*ifi      # Voltaje segun TC\n",
    "print('Intensidad a la entrada (A): {0:9.3E}'.format(iin))\n",
    "print('Voltaje a la entrada (V): {0:8.3E}'.format(vin))\n",
    "print('Intensidad segun TC (A): {0:9.3E}'.format(ifi))\n",
    "print('Voltaje segun TC (V): {0:8.3E}'.format(vfi))\n",
    "print('Incremento temporal (microsegundos): {0:6.3F}'.format(dt*1.e6))"
   ]
  },
  {
   "cell_type": "code",
   "execution_count": 15,
   "metadata": {},
   "outputs": [
    {
     "name": "stdout",
     "output_type": "stream",
     "text": [
      "Coeficiente de reflexion en la carga=-1.0000\n",
      "Coeficiente de reflexion en el generador=-0.2000\n"
     ]
    }
   ],
   "source": [
    "gammaL=(zl-z0)/(zl+z0)  # Coef. reflex. carga\n",
    "gammaG=(zg-z0)/(zg+z0)  # Coef. reflex. generador\n",
    "print('Coeficiente de reflexion en la carga={0:5.4F}'.format(gammaL))\n",
    "print('Coeficiente de reflexion en el generador={0:5.4F}'.format(gammaG))"
   ]
  },
  {
   "cell_type": "code",
   "execution_count": 16,
   "metadata": {},
   "outputs": [
    {
     "name": "stdout",
     "output_type": "stream",
     "text": [
      "[ 6.  -6.   1.2 -1.2]\n",
      "[0.08  0.08  0.016 0.016]\n"
     ]
    }
   ],
   "source": [
    "vosp,insp,vostp,instp = transih(5e-6)\n",
    "print(vosp)\n",
    "print(insp)"
   ]
  },
  {
   "cell_type": "markdown",
   "metadata": {},
   "source": [
    "Voltaje e intensidad en mitad de la línea en $t=5$ $\\mu$s:"
   ]
  },
  {
   "cell_type": "code",
   "execution_count": 17,
   "metadata": {},
   "outputs": [
    {
     "data": {
      "text/plain": [
       "(0.0, 0.19200000000000003)"
      ]
     },
     "execution_count": 17,
     "metadata": {},
     "output_type": "execute_result"
    }
   ],
   "source": [
    "transizt(lol/2,5E-6)"
   ]
  },
  {
   "cell_type": "code",
   "execution_count": 18,
   "metadata": {},
   "outputs": [],
   "source": [
    "ndtrepre=6\n",
    "tiempos=np.linspace(0,ndtrepre,100)*dt\n",
    "voltajes=np.zeros(100)\n",
    "vfis=np.ones(100)*vfi\n",
    "ifis=np.ones(100)*ifi\n",
    "intensidades=np.zeros(100)\n",
    "for i, tiempo in enumerate(tiempos):\n",
    "    voltajes[i] , intensidades[i] = transizt(lol/2,tiempo)"
   ]
  },
  {
   "cell_type": "code",
   "execution_count": 19,
   "metadata": {
    "scrolled": true
   },
   "outputs": [
    {
     "data": {
      "image/png": "[encoded data removed]",
      "text/plain": [
       "<Figure size 432x288 with 1 Axes>"
      ]
     },
     "metadata": {
      "needs_background": "light"
     },
     "output_type": "display_data"
    }
   ],
   "source": [
    "plt.plot(tiempos*1e6,voltajes,c='b',label='V(t)')\n",
    "plt.plot(tiempos*1e6,vfis,c='r',label='V final')\n",
    "plt.grid()\n",
    "plt.xlabel('Tiempo (micro s)')\n",
    "plt.ylabel('Voltaje en l/2 (V)')\n",
    "plt.legend(loc=1)\n",
    "plt.show()"
   ]
  },
  {
   "cell_type": "code",
   "execution_count": 20,
   "metadata": {
    "scrolled": false
   },
   "outputs": [
    {
     "data": {
      "image/png": "[encoded data removed]",
      "text/plain": [
       "<Figure size 432x288 with 1 Axes>"
      ]
     },
     "metadata": {
      "needs_background": "light"
     },
     "output_type": "display_data"
    }
   ],
   "source": [
    "plt.plot(tiempos*1e6,intensidades,c='b',label='I(t)')\n",
    "plt.plot(tiempos*1e6,ifis,c='r',label='I final')\n",
    "plt.grid()\n",
    "plt.xlabel('Tiempo (micro s)')\n",
    "plt.ylabel('Intensidad en l/2 (A)')\n",
    "plt.legend(loc=4)\n",
    "plt.show()"
   ]
  },
  {
   "cell_type": "markdown",
   "metadata": {},
   "source": [
    "### Caso con $Z_L=25$ $\\Omega$\n"
   ]
  },
  {
   "cell_type": "code",
   "execution_count": 21,
   "metadata": {},
   "outputs": [],
   "source": [
    "# Trabajamos en el SI. Datos del problema\n",
    "v0g=10.   # Voltaje del generador\n",
    "z0=75.    # Impedancia caracteristica\n",
    "zg=50.   # Impedancia del generador\n",
    "zl=25.   # Impedancia de carga\n",
    "c=299792458.0\n",
    "vo=0.25*c   # Velocidad de onda\n",
    "lol=100.    # Longitud de la linea"
   ]
  },
  {
   "cell_type": "code",
   "execution_count": 22,
   "metadata": {},
   "outputs": [
    {
     "name": "stdout",
     "output_type": "stream",
     "text": [
      "Intensidad a la entrada (A): 8.000E-02\n",
      "Voltaje a la entrada (V): 6.000E+00\n",
      "Intensidad segun TC (A): 1.333E-01\n",
      "Voltaje segun TC (V): 3.333E+00\n",
      "Incremento temporal (microsegundos):  1.334\n"
     ]
    }
   ],
   "source": [
    "iin=v0g/(zg+z0)         # Intensidad inicial\n",
    "vin=z0*iin              # Voltaje inicial\n",
    "dt=lol/vo           # Intervalo de tiempo (en ns)\n",
    "ifi=v0g/(zg+zl)         # Intensidad segun TC\n",
    "vfi=zl*ifi      # Voltaje segun TC\n",
    "print('Intensidad a la entrada (A): {0:9.3E}'.format(iin))\n",
    "print('Voltaje a la entrada (V): {0:8.3E}'.format(vin))\n",
    "print('Intensidad segun TC (A): {0:9.3E}'.format(ifi))\n",
    "print('Voltaje segun TC (V): {0:8.3E}'.format(vfi))\n",
    "print('Incremento temporal (microsegundos): {0:6.3F}'.format(dt*1.e6))"
   ]
  },
  {
   "cell_type": "code",
   "execution_count": 23,
   "metadata": {},
   "outputs": [
    {
     "name": "stdout",
     "output_type": "stream",
     "text": [
      "Coeficiente de reflexion en la carga=-0.5000\n",
      "Coeficiente de reflexion en el generador=-0.2000\n"
     ]
    }
   ],
   "source": [
    "gammaL=(zl-z0)/(zl+z0)  # Coef. reflex. carga\n",
    "gammaG=(zg-z0)/(zg+z0)  # Coef. reflex. generador\n",
    "print('Coeficiente de reflexion en la carga={0:5.4F}'.format(gammaL))\n",
    "print('Coeficiente de reflexion en el generador={0:5.4F}'.format(gammaG))"
   ]
  },
  {
   "cell_type": "code",
   "execution_count": 24,
   "metadata": {},
   "outputs": [
    {
     "name": "stdout",
     "output_type": "stream",
     "text": [
      "[ 6.  -3.   0.6 -0.3]\n",
      "[0.08  0.04  0.008 0.004]\n"
     ]
    }
   ],
   "source": [
    "vosp,insp,vostp,instp = transih(5e-6)\n",
    "print(vosp)\n",
    "print(insp)"
   ]
  },
  {
   "cell_type": "code",
   "execution_count": 25,
   "metadata": {},
   "outputs": [
    {
     "data": {
      "text/plain": [
       "(3.3, 0.132)"
      ]
     },
     "execution_count": 25,
     "metadata": {},
     "output_type": "execute_result"
    }
   ],
   "source": [
    "transizt(lol/2,5E-6)"
   ]
  },
  {
   "cell_type": "code",
   "execution_count": 26,
   "metadata": {},
   "outputs": [],
   "source": [
    "ndtrepre=6\n",
    "tiempos=np.linspace(0,ndtrepre,100)*dt\n",
    "voltajes=np.zeros(100)\n",
    "vfis=np.ones(100)*vfi\n",
    "ifis=np.ones(100)*ifi\n",
    "intensidades=np.zeros(100)\n",
    "for i, tiempo in enumerate(tiempos):\n",
    "    voltajes[i] , intensidades[i] = transizt(lol/2,tiempo)"
   ]
  },
  {
   "cell_type": "code",
   "execution_count": 27,
   "metadata": {
    "scrolled": true
   },
   "outputs": [
    {
     "data": {
      "image/png": "[encoded data removed]",
      "text/plain": [
       "<Figure size 432x288 with 1 Axes>"
      ]
     },
     "metadata": {
      "needs_background": "light"
     },
     "output_type": "display_data"
    }
   ],
   "source": [
    "plt.plot(tiempos*1e6,voltajes,c='b',label='V(t)')\n",
    "plt.plot(tiempos*1e6,vfis,c='r',label='V final')\n",
    "plt.grid()\n",
    "plt.xlabel('Tiempo (micro s)')\n",
    "plt.ylabel('Voltaje en l/2 (V)')\n",
    "plt.legend(loc=1)\n",
    "plt.show()"
   ]
  },
  {
   "cell_type": "code",
   "execution_count": 28,
   "metadata": {
    "scrolled": false
   },
   "outputs": [
    {
     "data": {
      "image/png": "[encoded data removed]",
      "text/plain": [
       "<Figure size 432x288 with 1 Axes>"
      ]
     },
     "metadata": {
      "needs_background": "light"
     },
     "output_type": "display_data"
    }
   ],
   "source": [
    "plt.plot(tiempos*1e6,intensidades,c='b',label='I(t)')\n",
    "plt.plot(tiempos*1e6,ifis,c='r',label='I final')\n",
    "plt.grid()\n",
    "plt.xlabel('Tiempo (micro s)')\n",
    "plt.ylabel('Intensidad en l/2 (A)')\n",
    "plt.legend(loc=4)\n",
    "plt.show()"
   ]
  },
  {
   "cell_type": "markdown",
   "metadata": {},
   "source": [
    "## Pérdidas pequeñas\n",
    "\n",
    "Esta parte es para dibujar pulsos atenuados en una linea"
   ]
  },
  {
   "cell_type": "code",
   "execution_count": 34,
   "metadata": {},
   "outputs": [
    {
     "name": "stdout",
     "output_type": "stream",
     "text": [
      "Once deleted, variables cannot be recovered. Proceed (y/[n])? y\n"
     ]
    }
   ],
   "source": [
    "reset"
   ]
  },
  {
   "cell_type": "code",
   "execution_count": 35,
   "metadata": {},
   "outputs": [],
   "source": [
    "import numpy as np\n",
    "import matplotlib.pyplot as plt"
   ]
  },
  {
   "cell_type": "code",
   "execution_count": 36,
   "metadata": {},
   "outputs": [],
   "source": [
    "def vp(z,t,v,alpha,v0p):\n",
    "    zt=t-z/v\n",
    "    return v0p*np.exp(-alpha*z)*np.exp(-(zt**2))"
   ]
  },
  {
   "cell_type": "code",
   "execution_count": 37,
   "metadata": {},
   "outputs": [],
   "source": [
    "lli=100\n",
    "v=1\n",
    "alpha=0.001\n",
    "v0p=10.\n",
    "zlinea=np.linspace(0,lli,300)\n",
    "t1=lli/v\n",
    "onda1=vp(zlinea,t1/5,v,alpha,v0p)\n",
    "onda2=vp(zlinea,2*t1/5,v,alpha,v0p)\n",
    "onda3=vp(zlinea,3*t1/5,v,alpha,v0p)"
   ]
  },
  {
   "cell_type": "code",
   "execution_count": 38,
   "metadata": {
    "scrolled": true
   },
   "outputs": [
    {
     "data": {
      "image/png": "[encoded data removed]",
      "text/plain": [
       "<Figure size 432x288 with 1 Axes>"
      ]
     },
     "metadata": {
      "needs_background": "light"
     },
     "output_type": "display_data"
    }
   ],
   "source": [
    "plt.plot(zlinea,onda1,label='t=2 s')\n",
    "plt.plot(zlinea,onda2,label='t=4 s')\n",
    "plt.plot(zlinea,onda3,label='t=6 s')\n",
    "plt.xlabel('z (m)')\n",
    "plt.ylabel('V (V)')\n",
    "plt.grid()\n",
    "plt.legend(loc=1)\n",
    "plt.show()"
   ]
  },
  {
   "cell_type": "code",
   "execution_count": null,
   "metadata": {},
   "outputs": [],
   "source": []
  }
 ],
 "metadata": {
  "kernelspec": {
   "display_name": "Python 3",
   "language": "python",
   "name": "python3"
  },
  "language_info": {
   "codemirror_mode": {
    "name": "ipython",
    "version": 3
   },
   "file_extension": ".py",
   "mimetype": "text/x-python",
   "name": "python",
   "nbconvert_exporter": "python",
   "pygments_lexer": "ipython3",
   "version": "3.8.5"
  }
 },
 "nbformat": 4,
 "nbformat_minor": 2
}
